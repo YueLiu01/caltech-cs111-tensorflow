{
 "cells": [
  {
   "cell_type": "markdown",
   "metadata": {},
   "source": [
    "# Lab 2: Linear Models\n",
    "This lab, like the others that follow it, will be a small, largely self-guided project in building a machine learning model.\n",
    "You will write a logistic regression classifier, from scratch, to classify 28x28 pixel images of handwritten digits (0 - 9) by which digit appears in the image.\n",
    "This is [the famous MNIST dataset](http://yann.lecun.com/exdb/mnist/), which has 60,000 training examples and 10,000 test examples."
   ]
  },
  {
   "cell_type": "code",
   "execution_count": 1,
   "metadata": {},
   "outputs": [],
   "source": [
    "%matplotlib inline\n",
    "import numpy as np\n",
    "import tensorflow as tf\n",
    "import matplotlib.pyplot as plt\n",
    "from sklearn.preprocessing import scale\n",
    "# Any other imports you need go here"
   ]
  },
  {
   "cell_type": "markdown",
   "metadata": {},
   "source": [
    "## Section 0: download the data\n",
    "Download the data as a CSV [here](https://pjreddie.com/projects/mnist-in-csv/) (the original data format is very unfriendly) and read the data format on the website."
   ]
  },
  {
   "cell_type": "markdown",
   "metadata": {},
   "source": [
    "## Section 1: load, understand, and preprocess the data\n",
    "Load the data from disk into four numpy arrays: x_train (feature vectors from the training set), y_train (labels from the training set), x_test (feature vectors from the test set), and y_test (labels from the test set).\n",
    "\n",
    "Then, do some simple preprocessing.\n",
    "Normalize your features by subtracting the mean and dividing by the range.\n",
    "This is less important for linear models, but is generally good practice and will be much more important with more complex models.\n",
    "Make sure you don't use any values computed from the test set, just the mean and range of the training set.\n",
    "\n",
    "Finally, display one of the training images, and print its correct label.\n",
    "\n",
    "Functions to look at:\n",
    " - `np.loadtxt`\n",
    " - `np.reshape`\n",
    " - `plt.imshow`"
   ]
  },
  {
   "cell_type": "code",
   "execution_count": 2,
   "metadata": {
    "scrolled": true
   },
   "outputs": [],
   "source": [
    "# Your code here\n",
    "mnist_train = np.loadtxt(\"./mnist_train.csv\",dtype=np.float64,delimiter=\",\") # datatype!!!\n",
    "mnist_test = np.loadtxt(\"./mnist_test.csv\",dtype=np.float64,delimiter=\",\")\n",
    "x_train = mnist_train[:,1:]\n",
    "y_train = mnist_train[:,0]\n",
    "x_test = mnist_test[:,1:]\n",
    "y_test = mnist_test[:,0]"
   ]
  },
  {
   "cell_type": "code",
   "execution_count": 3,
   "metadata": {},
   "outputs": [],
   "source": [
    "x_train_scaled = (x_train-x_train.mean(axis=1,keepdims=True))/x_train.ptp(axis=1,keepdims=True)\n",
    "x_test_scaled = (x_test-x_test.mean(axis=1,keepdims=True))/x_test.ptp(axis=1,keepdims=True)"
   ]
  },
  {
   "cell_type": "code",
   "execution_count": 4,
   "metadata": {},
   "outputs": [
    {
     "name": "stdout",
     "output_type": "stream",
     "text": [
      "7.0\n"
     ]
    },
    {
     "data": {
      "image/png": "[encoded data removed]",
      "text/plain": [
       "<Figure size 432x288 with 1 Axes>"
      ]
     },
     "metadata": {
      "needs_background": "light"
     },
     "output_type": "display_data"
    }
   ],
   "source": [
    "plt.imshow(x_test_scaled[0].reshape(28,28))\n",
    "print(y_test[0])"
   ]
  },
  {
   "cell_type": "markdown",
   "metadata": {},
   "source": [
    "## Section 2: build a data pipeline\n",
    "Make a pipeline that turns the dataset you have in numpy arrays into tensors that your model can use.\n",
    "The pipeline should also shuffle and batch the data (with some reasonable batch size; I used 64 because I'm training on a GPU but you might want to go lower).\n",
    "\n",
    "There are multiple ways to approach this.\n",
    "No matter what, you'll need two `tf.data.Dataset`s, one for train and one for test, and probably you'll do some transforms to that.\n",
    "I made datasets which did not use `repeat`, and used reinitializable iterators to feed the data -- you might instead repeat the data for as many epochs (full run-throughs of the dataset during training, ~5-10 for this assignment) as you plan to train for, then use one-shot iterators instead, or do something else.\n",
    "Don't use feeding to pass in your data, though, since it'll result in a slow pipeline.\n",
    "\n",
    "Optionally, you might want to cache or prefetch data to prevent it from being loaded multiple times while the model is training and keep the model from needing to wait for data.\n",
    "\n",
    "Now might also be a good place to convert the labels to one-hot encoding (see below), though you don't need to.\n",
    "If you want, you could also do your data normalization on-the-fly here (but make sure it still does the same thing).\n",
    "\n",
    "Functions to look at (not exhaustive):\n",
    " - `tf.data.Dataset.from_tensor_slices`\n",
    " - `tf.data.Dataset.shuffle`\n",
    " - `tf.data.Dataset.batch`\n",
    " - `tf.data.Dataset.repeat`\n",
    " - `tf.data.Dataset.make_one_shot_iterator`\n",
    " - `tf.data.Dataset.make_initializable_iterator`\n",
    " - `tf.data.Iterator.from_structure`\n",
    " - `tf.data.Iterator.make_initializer`"
   ]
  },
  {
   "cell_type": "code",
   "execution_count": 5,
   "metadata": {},
   "outputs": [
    {
     "name": "stdout",
     "output_type": "stream",
     "text": [
      "n_train: 60000\n",
      "n_test: 10000\n"
     ]
    }
   ],
   "source": [
    "n_train = y_train.size\n",
    "n_test = y_test.size\n",
    "print(\"n_train:\", n_train)\n",
    "print(\"n_test:\", n_test)"
   ]
  },
  {
   "cell_type": "code",
   "execution_count": 6,
   "metadata": {},
   "outputs": [],
   "source": [
    "n_epochs = 50\n",
    "batch_size = 128\n",
    "n_batches_per_epoch_train = n_train // batch_size\n",
    "n_batches_per_epoch_test  = n_test  // batch_size"
   ]
  },
  {
   "cell_type": "code",
   "execution_count": 7,
   "metadata": {},
   "outputs": [],
   "source": [
    "y_train_onehot = tf.one_hot(y_train,depth=10,dtype=tf.float64)\n",
    "y_test_onehot = tf.one_hot(y_test,depth=10,dtype=tf.float64)"
   ]
  },
  {
   "cell_type": "code",
   "execution_count": 8,
   "metadata": {},
   "outputs": [],
   "source": [
    "dataset_train = tf.data.Dataset.from_tensor_slices((x_train_scaled, y_train_onehot))\\\n",
    "    .shuffle(5000).batch(batch_size)\n",
    "dataset_test = tf.data.Dataset.from_tensor_slices((x_test_scaled, y_test_onehot))\\\n",
    "    .shuffle(5000).batch(batch_size)"
   ]
  },
  {
   "cell_type": "code",
   "execution_count": 9,
   "metadata": {},
   "outputs": [
    {
     "name": "stdout",
     "output_type": "stream",
     "text": [
      "WARNING:tensorflow:From <ipython-input-9-27390805d393>:2: DatasetV1.output_types (from tensorflow.python.data.ops.dataset_ops) is deprecated and will be removed in a future version.\n",
      "Instructions for updating:\n",
      "Use `tf.compat.v1.data.get_output_types(dataset)`.\n",
      "WARNING:tensorflow:From <ipython-input-9-27390805d393>:3: DatasetV1.output_shapes (from tensorflow.python.data.ops.dataset_ops) is deprecated and will be removed in a future version.\n",
      "Instructions for updating:\n",
      "Use `tf.compat.v1.data.get_output_shapes(dataset)`.\n",
      "WARNING:tensorflow:From /Users/frank/anaconda3/envs/pytorch/lib/python3.7/site-packages/tensorflow/python/data/ops/iterator_ops.py:348: Iterator.output_types (from tensorflow.python.data.ops.iterator_ops) is deprecated and will be removed in a future version.\n",
      "Instructions for updating:\n",
      "Use `tf.compat.v1.data.get_output_types(iterator)`.\n",
      "WARNING:tensorflow:From /Users/frank/anaconda3/envs/pytorch/lib/python3.7/site-packages/tensorflow/python/data/ops/iterator_ops.py:349: Iterator.output_shapes (from tensorflow.python.data.ops.iterator_ops) is deprecated and will be removed in a future version.\n",
      "Instructions for updating:\n",
      "Use `tf.compat.v1.data.get_output_shapes(iterator)`.\n",
      "WARNING:tensorflow:From /Users/frank/anaconda3/envs/pytorch/lib/python3.7/site-packages/tensorflow/python/data/ops/iterator_ops.py:351: Iterator.output_classes (from tensorflow.python.data.ops.iterator_ops) is deprecated and will be removed in a future version.\n",
      "Instructions for updating:\n",
      "Use `tf.compat.v1.data.get_output_classes(iterator)`.\n"
     ]
    }
   ],
   "source": [
    "iterator = tf.data.Iterator.from_structure(\n",
    "    dataset_train.output_types, \n",
    "    dataset_train.output_shapes)\n",
    "\n",
    "train_init_op = iterator.make_initializer(dataset_train)\n",
    "test_init_op = iterator.make_initializer(dataset_test)"
   ]
  },
  {
   "cell_type": "markdown",
   "metadata": {},
   "source": [
    "## Section 3: build a model graph\n",
    "This is where the actual model gets built.\n",
    "I'll give you the steps, but there's flexibility in how you implement each part.\n",
    "Make sure your design is clean, both for efficiency and ease of debugging.\n",
    "Names and name scopes help divide the model into logical parts.\n",
    "\n",
    "Note that the first axis of every tensor will be the batch size.\n",
    "So, a tensor that in your model is a scalar will likely have a shape of (?), and a 10-element vector will have a shape of (?, 10).\n",
    "The \"?\" indicates that TensorFlow will treat this axis as being variable-length, since it can't infer it just from context.\n",
    "It may be helpful to switch your thinking back and forth from one view (no batches, scalars are scalars) when thinking about modeling to another (scalars come in batches) when writing code that changes shapes.\n",
    "\n",
    "If you're having difficulty debugging, try looking at your graph in TensorBoard, printing tensor objects to see their shapes, and running small parts of the graph in a session while feeding values to certain tensors.\n",
    "\n",
    "Functions to look at throughout:\n",
    " - `tf.cast`\n",
    " - `tf.expand_dims`\n",
    " - `tf.squeeze`\n",
    " - arithmetic operations"
   ]
  },
  {
   "cell_type": "markdown",
   "metadata": {},
   "source": [
    "### 3.1: Input tensors\n",
    "Get a tensor for the input image (features) and another tensor for the correct label.\n",
    "It may be convenient to convert the label to a one-hot vector: 10 elements, each of which is 0 except the place of the correct label.\n",
    "For instance, a label of \"3\" would be the vector $$[0, 0, 0, 1, 0, 0, 0, 0, 0, 0].$$\n",
    "\n",
    "Functions to look at:\n",
    " - `tf.data.Iterator.get_next`\n",
    " - `tf.one_hot`"
   ]
  },
  {
   "cell_type": "code",
   "execution_count": 10,
   "metadata": {},
   "outputs": [
    {
     "data": {
      "text/plain": [
       "TensorShape([Dimension(None), Dimension(784)])"
      ]
     },
     "execution_count": 10,
     "metadata": {},
     "output_type": "execute_result"
    }
   ],
   "source": [
    "# Your code here\n",
    "with tf.name_scope('inputs'):\n",
    "    next_elem_train = iterator.get_next()\n",
    "    features, target = next_elem_train# Shapes: (?, 13) and (?)\n",
    "features.shape"
   ]
  },
  {
   "cell_type": "markdown",
   "metadata": {},
   "source": [
    "### 3.2: Variables\n",
    "Logistic regression needs two variables, correctly shaped: a weight matrix and a vector of biases."
   ]
  },
  {
   "cell_type": "code",
   "execution_count": 11,
   "metadata": {},
   "outputs": [
    {
     "name": "stdout",
     "output_type": "stream",
     "text": [
      "WARNING:tensorflow:From /Users/frank/anaconda3/envs/pytorch/lib/python3.7/site-packages/tensorflow/python/ops/init_ops.py:1251: calling VarianceScaling.__init__ (from tensorflow.python.ops.init_ops) with dtype is deprecated and will be removed in a future version.\n",
      "Instructions for updating:\n",
      "Call initializer instance with the dtype argument instead of passing it to the constructor\n"
     ]
    }
   ],
   "source": [
    "# Your code here\n",
    "n_features = 784\n",
    "n_indices = 10\n",
    "weights = tf.get_variable('weights', shape=(n_features, n_indices), dtype=tf.float64,\n",
    "                          initializer=tf.glorot_uniform_initializer())\n",
    "bias = tf.get_variable('bias', shape=(n_indices), dtype=tf.float64,\n",
    "                       initializer=tf.zeros_initializer())"
   ]
  },
  {
   "cell_type": "markdown",
   "metadata": {},
   "source": [
    "### 3.3: Logits\n",
    "Compute the inputs to the softmax functiton, the logits or \"unnormalized probabilities.\"\n",
    "The result should be, for each example in the batch, a vector of ten values (so the tensor has a shape like (?, 10))."
   ]
  },
  {
   "cell_type": "code",
   "execution_count": 12,
   "metadata": {},
   "outputs": [
    {
     "data": {
      "text/plain": [
       "TensorShape([Dimension(784), Dimension(10)])"
      ]
     },
     "execution_count": 12,
     "metadata": {},
     "output_type": "execute_result"
    }
   ],
   "source": [
    "weights.shape"
   ]
  },
  {
   "cell_type": "code",
   "execution_count": 13,
   "metadata": {},
   "outputs": [],
   "source": [
    "# Your code here\n",
    "with tf.name_scope('logits'):\n",
    "    logits = tf.matmul(features,weights) + bias\n",
    "    #logits = tf.reduce_sum(features * weights, axis=1) + bias # Shape: (?)"
   ]
  },
  {
   "cell_type": "code",
   "execution_count": 14,
   "metadata": {},
   "outputs": [
    {
     "data": {
      "text/plain": [
       "TensorShape([Dimension(None), Dimension(10)])"
      ]
     },
     "execution_count": 14,
     "metadata": {},
     "output_type": "execute_result"
    }
   ],
   "source": [
    "logits.shape"
   ]
  },
  {
   "cell_type": "markdown",
   "metadata": {},
   "source": [
    "### 3.4: Softmax probabilities\n",
    "Apply the softmax function to the logits to obtain a vector of class probabilities.\n",
    "Again, there should be a probability for each class for each example.\n",
    "Do _not_ use helper functions to compute the softmax function, like `tf.nn.softmax` or `tf.contrib.layers.softmax`.\n",
    "Instead, stick to core operations like `tf.exp`.\n",
    "\n",
    "Two main reasons for this:\n",
    " 1. Better to learn without the API doing too much of the work for you; when doing model development it'll basically all be from scratch\n",
    " 2. I couldn't get `tf.nn.softmax` to run on a GPU, so I'd do it this way in practice too"
   ]
  },
  {
   "cell_type": "code",
   "execution_count": 15,
   "metadata": {},
   "outputs": [],
   "source": [
    "# Your code here\n",
    "with tf.name_scope('softmax'):\n",
    "    softmax_prob = tf.nn.softmax(logits)"
   ]
  },
  {
   "cell_type": "code",
   "execution_count": 16,
   "metadata": {},
   "outputs": [
    {
     "data": {
      "text/plain": [
       "TensorShape([Dimension(None), Dimension(10)])"
      ]
     },
     "execution_count": 16,
     "metadata": {},
     "output_type": "execute_result"
    }
   ],
   "source": [
    "softmax_prob.shape"
   ]
  },
  {
   "cell_type": "markdown",
   "metadata": {},
   "source": [
    "### 3.5: Cross-entropy loss\n",
    "Compute the per-example cross-entropy loss $$L = -y \\cdot \\log p_\\text{model}(y)$$ using the probabilities and the correct label.\n",
    "\n",
    "Then, take the mean of the per-example losses to compute a per-batch loss.\n",
    "Also, add a summary operation which saves the per-batch loss so you can plot it later."
   ]
  },
  {
   "cell_type": "code",
   "execution_count": 17,
   "metadata": {},
   "outputs": [
    {
     "data": {
      "text/plain": [
       "tf.float64"
      ]
     },
     "execution_count": 17,
     "metadata": {},
     "output_type": "execute_result"
    }
   ],
   "source": [
    "target.dtype"
   ]
  },
  {
   "cell_type": "code",
   "execution_count": 18,
   "metadata": {},
   "outputs": [],
   "source": [
    "# Your code here\n",
    "with tf.name_scope('loss'):\n",
    "    xentropy_per_example = -tf.reduce_sum(target*tf.log(softmax_prob),axis=1)\n",
    "    xentropy_batch = tf.reduce_mean(xentropy_per_example)\n",
    "    \n",
    "    tf.summary.scalar('loss', xentropy_batch)\n",
    "    #tf.summary.scalar('softmax', softmax_prob)"
   ]
  },
  {
   "cell_type": "code",
   "execution_count": 19,
   "metadata": {},
   "outputs": [
    {
     "data": {
      "text/plain": [
       "TensorShape([Dimension(None)])"
      ]
     },
     "execution_count": 19,
     "metadata": {},
     "output_type": "execute_result"
    }
   ],
   "source": [
    "xentropy_per_example.shape"
   ]
  },
  {
   "cell_type": "markdown",
   "metadata": {},
   "source": [
    "### 3.6: The optimizer\n",
    "Add an optimizer (simple gradient descent is fine) and an operation to minimize the per-batch loss.\n",
    "You may need to play around with the learning rate to find one that works."
   ]
  },
  {
   "cell_type": "code",
   "execution_count": 20,
   "metadata": {},
   "outputs": [],
   "source": [
    "# Your code here\n",
    "optimizer = tf.train.GradientDescentOptimizer(8e-4)\n",
    "optimize_step = optimizer.minimize(xentropy_batch)"
   ]
  },
  {
   "cell_type": "markdown",
   "metadata": {},
   "source": [
    "### 3.7: Predicted label and per-batch accuracy\n",
    "The model should predict the digit it assigns the highest probability. \n",
    "Add a tensor which represents the predicted digit; this lets you use the model \"in the wild\".\n",
    "Then, add a tensor which represents what fraction of the batch the model predicted correctly (its accuracy, or average 0/1 loss), and a summary operation for accuracy.\n",
    "\n",
    "Finally, add a tensor to merge the summaries made so far.\n",
    "Or, just add them one at a time if you want (but why would you?)\n",
    "\n",
    "Functions to look at:\n",
    " - `tf.argmax`\n",
    " - `tf.equal`\n",
    " - `tf.reduce_mean`\n",
    " - `tf.summary.merge_all`"
   ]
  },
  {
   "cell_type": "code",
   "execution_count": 21,
   "metadata": {},
   "outputs": [
    {
     "data": {
      "text/plain": [
       "tf.float64"
      ]
     },
     "execution_count": 21,
     "metadata": {},
     "output_type": "execute_result"
    }
   ],
   "source": [
    "# Your code here\n",
    "with tf.name_scope(\"pred_label_name\"):\n",
    "    pred_label = tf.argmax(softmax_prob,axis=1)\n",
    "    correctness = tf.equal(pred_label, tf.argmax(target,axis=1))\n",
    "    accuracy = tf.reduce_mean(tf.cast(correctness,tf.float64))\n",
    "accuracy.dtype"
   ]
  },
  {
   "cell_type": "code",
   "execution_count": 22,
   "metadata": {},
   "outputs": [
    {
     "data": {
      "text/plain": [
       "tf.int64"
      ]
     },
     "execution_count": 22,
     "metadata": {},
     "output_type": "execute_result"
    }
   ],
   "source": [
    "pred_label.dtype"
   ]
  },
  {
   "cell_type": "markdown",
   "metadata": {},
   "source": [
    "## Section 4: train the model\n",
    "Make a training loop which iterates through the full training set multiple times, and, for each batch:\n",
    " 1. Runs the training operation\n",
    " 2. Adds the summaries to a training FileWriter, with the correct batch number\n",
    "\n",
    "After each epoch, iterate over the test dataset, adding summaries to a test FileWriter, and print the average test accuracy over the whole test set.\n",
    "Finally, use a `Saver` to save the whole graph to disk.\n",
    "\n",
    "Remember to: \n",
    " - Initialize variables\n",
    " - Give FileWriters references to the graph\n",
    " \n",
    "Then, run training.\n",
    "You should expect the model to hit about 90% test-set accuracy.\n",
    "Not bad for a linear model!\n",
    "If it doesn't, it might indicate a bug in your code, or you might need to tune hyperparameters (e.g. batch size, learning rate).\n",
    "The accuracy should sharply jump after the first epoch, so you don't need to wait for the full model to train to know you have a bug. \n",
    "\n",
    "You might notice, looking at the training plots on TensorBoard, how close the training and test errors are.\n",
    "This suggests our model is probably underfitting, and a more powerful model will do better.\n",
    "\n",
    "<sup><sub>My model was showing 20% accuracy and it took over an hour to figure out I was actually just computing accuracy wrong :(</sub></sup>"
   ]
  },
  {
   "cell_type": "code",
   "execution_count": 23,
   "metadata": {},
   "outputs": [
    {
     "name": "stdout",
     "output_type": "stream",
     "text": [
      "Epoch: 0\n",
      "Average test set accuracy: 0.38746044303797467\n",
      "Epoch: 1\n",
      "Average test set accuracy: 0.5848496835443038\n",
      "Epoch: 2\n",
      "Average test set accuracy: 0.6787974683544303\n",
      "Epoch: 3\n",
      "Average test set accuracy: 0.7277492088607594\n",
      "Epoch: 4\n",
      "Average test set accuracy: 0.762559335443038\n",
      "Epoch: 5\n",
      "Average test set accuracy: 0.7837223101265823\n",
      "Epoch: 6\n",
      "Average test set accuracy: 0.7939082278481012\n",
      "Epoch: 7\n",
      "Average test set accuracy: 0.8069620253164557\n",
      "Epoch: 8\n",
      "Average test set accuracy: 0.8117088607594937\n",
      "Epoch: 9\n",
      "Average test set accuracy: 0.8163568037974683\n",
      "Epoch: 10\n",
      "Average test set accuracy: 0.8252571202531646\n",
      "Epoch: 11\n",
      "Average test set accuracy: 0.8297072784810127\n",
      "Epoch: 12\n",
      "Average test set accuracy: 0.8344541139240507\n",
      "Epoch: 13\n",
      "Average test set accuracy: 0.8375197784810127\n",
      "Epoch: 14\n",
      "Average test set accuracy: 0.8412776898734177\n",
      "Epoch: 15\n",
      "Average test set accuracy: 0.8419699367088608\n",
      "Epoch: 16\n",
      "Average test set accuracy: 0.8464200949367089\n",
      "Epoch: 17\n",
      "Average test set accuracy: 0.8476068037974683\n",
      "Epoch: 18\n",
      "Average test set accuracy: 0.8509691455696202\n",
      "Epoch: 19\n",
      "Average test set accuracy: 0.8534414556962026\n",
      "Epoch: 20\n",
      "Average test set accuracy: 0.856309335443038\n",
      "Epoch: 21\n",
      "Average test set accuracy: 0.8540348101265823\n",
      "Epoch: 22\n",
      "Average test set accuracy: 0.8580893987341772\n",
      "Epoch: 23\n",
      "Average test set accuracy: 0.8599683544303798\n",
      "Epoch: 24\n",
      "Average test set accuracy: 0.8616495253164557\n",
      "Epoch: 25\n",
      "Average test set accuracy: 0.8627373417721519\n",
      "Epoch: 26\n",
      "Average test set accuracy: 0.8640229430379747\n",
      "Epoch: 27\n",
      "Average test set accuracy: 0.8662974683544303\n",
      "Epoch: 28\n",
      "Average test set accuracy: 0.8677808544303798\n",
      "Epoch: 29\n",
      "Average test set accuracy: 0.8708465189873418\n",
      "Epoch: 30\n",
      "Average test set accuracy: 0.8704509493670886\n",
      "Epoch: 31\n",
      "Average test set accuracy: 0.8715387658227848\n",
      "Epoch: 32\n",
      "Average test set accuracy: 0.8712420886075949\n",
      "Epoch: 33\n",
      "Average test set accuracy: 0.8737143987341772\n",
      "Epoch: 34\n",
      "Average test set accuracy: 0.8723299050632911\n",
      "Epoch: 35\n",
      "Average test set accuracy: 0.8744066455696202\n",
      "Epoch: 36\n",
      "Average test set accuracy: 0.8748022151898734\n",
      "Epoch: 37\n",
      "Average test set accuracy: 0.8735166139240507\n",
      "Epoch: 38\n",
      "Average test set accuracy: 0.8754944620253164\n",
      "Epoch: 39\n",
      "Average test set accuracy: 0.8752966772151899\n",
      "Epoch: 40\n",
      "Average test set accuracy: 0.8770767405063291\n",
      "Epoch: 41\n",
      "Average test set accuracy: 0.8754944620253164\n",
      "Epoch: 42\n",
      "Average test set accuracy: 0.878065664556962\n",
      "Epoch: 43\n",
      "Average test set accuracy: 0.8769778481012658\n",
      "Epoch: 44\n",
      "Average test set accuracy: 0.8796479430379747\n",
      "Epoch: 45\n",
      "Average test set accuracy: 0.8788568037974683\n",
      "Epoch: 46\n",
      "Average test set accuracy: 0.8806368670886076\n",
      "Epoch: 47\n",
      "Average test set accuracy: 0.8794501582278481\n",
      "Epoch: 48\n",
      "Average test set accuracy: 0.8789556962025317\n",
      "Epoch: 49\n",
      "Average test set accuracy: 0.8785601265822784\n"
     ]
    }
   ],
   "source": [
    "# Training code\n",
    "saver = tf.train.Saver() # Save varibles\n",
    "merged_summaries = tf.summary.merge_all() # Single merged summary op\n",
    "\n",
    "train_batch = 0\n",
    "test_batch = 0\n",
    "\n",
    "with tf.Session() as sess:\n",
    "    # Make one writer for training logs and another for test logs \n",
    "    train_writer = tf.summary.FileWriter('./logs_lab/train', graph=sess.graph)\n",
    "    test_writer = tf.summary.FileWriter('./logs_lab/test')\n",
    "    \n",
    "    # Initialize all variables\n",
    "    sess.run(tf.global_variables_initializer())\n",
    "    \n",
    "    # Training loop\n",
    "    for epoch in range(n_epochs):\n",
    "        # Load training data\n",
    "        sess.run(train_init_op)\n",
    "        \n",
    "        # Iterate over the dataset once\n",
    "        while True:\n",
    "            try:\n",
    "                if train_batch > 0: # Typical batch\n",
    "                    # Run summary ops and optimization\n",
    "                    summary, _ = sess.run([merged_summaries, optimize_step])\n",
    "                    train_writer.add_summary(summary, train_batch)\n",
    "                    train_batch += 1\n",
    "                else:\n",
    "                    # On the first batch, run a full trace\n",
    "                    run_options = tf.RunOptions(trace_level=tf.RunOptions.FULL_TRACE)\n",
    "                    run_metadata = tf.RunMetadata()\n",
    "                    \n",
    "                    summary, _ = sess.run([merged_summaries, optimize_step],\n",
    "                                          options=run_options,\n",
    "                                          run_metadata=run_metadata)\n",
    "                    \n",
    "                    train_writer.add_summary(summary, train_batch)    \n",
    "                    train_writer.add_run_metadata(run_metadata, \n",
    "                                                  'first training batch')\n",
    "                    train_batch += 1\n",
    "            except tf.errors.OutOfRangeError: # No more data\n",
    "                break\n",
    "    \n",
    "        \n",
    "        print('Epoch:', epoch)\n",
    "        sess.run(test_init_op)\n",
    "        accuracies = [] # Track average loss over test set\n",
    "        while True:\n",
    "            try:\n",
    "                summary, pred_accuracy = sess.run([merged_summaries, accuracy])\n",
    "                accuracies.append(pred_accuracy)\n",
    "\n",
    "                # Roughly align test batches with training batches\n",
    "                test_writer.add_summary(summary, test_batch)\n",
    "                test_batch += 1\n",
    "            except tf.errors.OutOfRangeError:\n",
    "                break\n",
    "        average_accuracy = np.mean(accuracies)\n",
    "        print('Average test set accuracy:', average_accuracy)\n",
    "        \n",
    "    # Save model\n",
    "    saver.save(sess, './checkpoints_lab/model.ckpt')"
   ]
  },
  {
   "cell_type": "markdown",
   "metadata": {},
   "source": [
    "## Section 5: use the model for inference\n",
    "Pull one or more examples from the test set and display its image.\n",
    "Then, use your model to predict what digit the image is, print that, and print the true label (which hopefully matches).\n",
    "\n",
    "Remember you'll need to use `Saver.restore()` to load the trained model before inference."
   ]
  },
  {
   "cell_type": "code",
   "execution_count": 24,
   "metadata": {},
   "outputs": [
    {
     "name": "stdout",
     "output_type": "stream",
     "text": [
      "WARNING:tensorflow:From /Users/frank/anaconda3/envs/pytorch/lib/python3.7/site-packages/tensorflow/python/training/saver.py:1276: checkpoint_exists (from tensorflow.python.training.checkpoint_management) is deprecated and will be removed in a future version.\n",
      "Instructions for updating:\n",
      "Use standard file APIs to check for files with this prefix.\n",
      "INFO:tensorflow:Restoring parameters from ./checkpoints_lab/model.ckpt\n",
      "[array([4, 8, 7, 3, 3, 2, 2, 8, 1, 4, 7, 3, 6, 9, 0, 7, 8, 3, 7, 9, 8, 7,\n",
      "       9, 2, 2, 9, 9, 2, 3, 7, 0, 1, 9, 2, 2, 8, 1, 1, 4, 3, 9, 1, 6, 5,\n",
      "       9, 9, 0, 4, 4, 5, 3, 7, 1, 9, 7, 4, 1, 2, 9, 8, 9, 1, 4, 7, 3, 1,\n",
      "       9, 4, 8, 8, 1, 9, 2, 2, 6, 8, 3, 0, 1, 3, 0, 9, 0, 5, 2, 4, 3, 1,\n",
      "       5, 1, 5, 4, 2, 6, 2, 0, 8, 1, 1, 7, 0, 5, 0, 8, 8, 2, 9, 8, 1, 2,\n",
      "       6, 3, 5, 4, 1, 7, 2, 8, 1, 6, 1, 7, 4, 9, 1, 3, 1, 3]), array([4, 8, 3, 3, 3, 2, 2, 8, 7, 4, 7, 3, 6, 9, 0, 4, 8, 5, 7, 4, 5, 3,\n",
      "       9, 2, 7, 9, 9, 2, 5, 7, 0, 1, 9, 2, 2, 8, 1, 1, 4, 3, 9, 1, 6, 5,\n",
      "       9, 9, 5, 7, 4, 5, 3, 7, 1, 7, 5, 4, 1, 2, 9, 8, 4, 1, 4, 7, 8, 1,\n",
      "       4, 4, 8, 8, 1, 9, 2, 2, 3, 8, 3, 0, 1, 8, 0, 4, 0, 9, 2, 4, 3, 1,\n",
      "       3, 1, 5, 4, 2, 6, 9, 0, 8, 1, 1, 7, 5, 5, 7, 8, 8, 2, 9, 8, 1, 2,\n",
      "       6, 3, 5, 4, 1, 7, 2, 8, 1, 6, 1, 7, 4, 9, 1, 0, 1, 3])]\n"
     ]
    }
   ],
   "source": [
    "# Your code here\n",
    "with tf.Session() as sess:\n",
    "    saver.restore(sess, './checkpoints_lab/model.ckpt')\n",
    "    sess.run(test_init_op)\n",
    "    \n",
    "    # returns 2 arrays, first is prediction, second is true values\n",
    "    print(sess.run([pred_label,tf.argmax(target,axis=1)])) \n",
    "    "
   ]
  },
  {
   "cell_type": "markdown",
   "metadata": {},
   "source": [
    "## Section 6: visualizations\n",
    "Visualize, as an image (i.e. `plt.imshow`), the weight matrix for each of the digits.\n",
    "You might want to use the `vmin` and `vmax` arguments to put all of the matrices on the same scale. \n",
    "You'll need to load the weights again to save them to numpy arrays (by `run()`-ing the variables).\n",
    "\n",
    "The results are pretty interesting.\n",
    "The image should be brightest where the weights strongly indicate that digit, so you can see what's (linearly) characteristic of different digits -- I see a strong dark spot in the middle for zero, a distinctive curly tail on 2, and a consistent 3.\n",
    "Other digits (e.g. 8 and 9) have much weaker patterns, suggesting greater variation in how people draw them."
   ]
  },
  {
   "cell_type": "code",
   "execution_count": 25,
   "metadata": {},
   "outputs": [
    {
     "name": "stdout",
     "output_type": "stream",
     "text": [
      "INFO:tensorflow:Restoring parameters from ./checkpoints_lab/model.ckpt\n",
      "[[-0.07556855  0.05031075 -0.00803095 ...  0.05889582  0.02417664\n",
      "  -0.06520978]\n",
      " [ 0.0296837   0.1009042   0.01550329 ...  0.06458713 -0.00896561\n",
      "  -0.07585402]\n",
      " [ 0.04757139  0.00550422  0.0262363  ... -0.08319093  0.07259621\n",
      "  -0.05492399]\n",
      " ...\n",
      " [-0.04707263 -0.04413856  0.00033062 ...  0.07031114 -0.07682233\n",
      "  -0.07312001]\n",
      " [-0.06280792  0.02338678 -0.0166425  ...  0.06422725  0.01847996\n",
      "  -0.03121161]\n",
      " [ 0.04429443  0.0519034   0.07469365 ...  0.0468218   0.00168849\n",
      "  -0.04246845]]\n"
     ]
    },
    {
     "data": {
      "image/png": "[encoded data removed]",
      "text/plain": [
       "<Figure size 432x288 with 1 Axes>"
      ]
     },
     "metadata": {
      "needs_background": "light"
     },
     "output_type": "display_data"
    },
    {
     "data": {
      "image/png": "[encoded data removed]",
      "text/plain": [
       "<Figure size 432x288 with 1 Axes>"
      ]
     },
     "metadata": {
      "needs_background": "light"
     },
     "output_type": "display_data"
    },
    {
     "data": {
      "image/png": "[encoded data removed]",
      "text/plain": [
       "<Figure size 432x288 with 1 Axes>"
      ]
     },
     "metadata": {
      "needs_background": "light"
     },
     "output_type": "display_data"
    },
    {
     "data": {
      "image/png": "[encoded data removed]",
      "text/plain": [
       "<Figure size 432x288 with 1 Axes>"
      ]
     },
     "metadata": {
      "needs_background": "light"
     },
     "output_type": "display_data"
    },
    {
     "data": {
      "image/png": "[encoded data removed]",
      "text/plain": [
       "<Figure size 432x288 with 1 Axes>"
      ]
     },
     "metadata": {
      "needs_background": "light"
     },
     "output_type": "display_data"
    },
    {
     "data": {
      "image/png": "[encoded data removed]",
      "text/plain": [
       "<Figure size 432x288 with 1 Axes>"
      ]
     },
     "metadata": {
      "needs_background": "light"
     },
     "output_type": "display_data"
    },
    {
     "data": {
      "image/png": "[encoded data removed]",
      "text/plain": [
       "<Figure size 432x288 with 1 Axes>"
      ]
     },
     "metadata": {
      "needs_background": "light"
     },
     "output_type": "display_data"
    },
    {
     "data": {
      "image/png": "[encoded data removed]",
      "text/plain": [
       "<Figure size 432x288 with 1 Axes>"
      ]
     },
     "metadata": {
      "needs_background": "light"
     },
     "output_type": "display_data"
    },
    {
     "data": {
      "image/png": "[encoded data removed]",
      "text/plain": [
       "<Figure size 432x288 with 1 Axes>"
      ]
     },
     "metadata": {
      "needs_background": "light"
     },
     "output_type": "display_data"
    },
    {
     "data": {
      "image/png": "[encoded data removed]",
      "text/plain": [
       "<Figure size 432x288 with 1 Axes>"
      ]
     },
     "metadata": {
      "needs_background": "light"
     },
     "output_type": "display_data"
    }
   ],
   "source": [
    "# Your code here\n",
    "with tf.Session() as sess:\n",
    "    saver.restore(sess, './checkpoints_lab/model.ckpt')\n",
    "    W = sess.run(weights)\n",
    "    print(W)\n",
    "    for i in range(10):\n",
    "        Wi = W[:,i]\n",
    "        plt.figure()\n",
    "        plt.imshow(Wi.reshape(28,28),aspect='auto',vmin=-0.01,vmax=0.1)"
   ]
  },
  {
   "cell_type": "code",
   "execution_count": null,
   "metadata": {},
   "outputs": [],
   "source": []
  }
 ],
 "metadata": {
  "kernelspec": {
   "display_name": "Pytorch for Deeplearning",
   "language": "python",
   "name": "pytorch"
  },
  "language_info": {
   "codemirror_mode": {
    "name": "ipython",
    "version": 3
   },
   "file_extension": ".py",
   "mimetype": "text/x-python",
   "name": "python",
   "nbconvert_exporter": "python",
   "pygments_lexer": "ipython3",
   "version": "3.7.3"
  }
 },
 "nbformat": 4,
 "nbformat_minor": 2
}
