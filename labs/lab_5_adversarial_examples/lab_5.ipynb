{
 "cells": [
  {
   "cell_type": "markdown",
   "metadata": {},
   "source": [
    "# Lab 5: A Black-Box Adversarial Attack\n",
    "In this lab, we'll carry out an adversarial attack in the **black box** case: we don't have the weights of the network we're trying to trick (the **target model**), and instead we can only give it inputs and see its outputs.\n",
    "\n",
    "Black-box adversarial attacks are based on the fact that adversarial examples are _transferable_: if it tricks one network, it will likely trick another (but less well).\n",
    "So, since we need network weights to make adversarial examples, we train a second model, the **surrogate model**, to act like the target model.\n",
    "To do this, we'll use the target model as an \"oracle\" to make a dataset where the features are from real examples, and the labels are the outputs of the target model on those examples.\n",
    "If the surrogate model learns to output the same probabilities as the target model on a given input, its internal representations are likely similar.\n",
    "Then, when we make an adversarial example for the surrogate model, it should also trick the target model.\n",
    "\n",
    "The end result of this lab should be an image which looks close to some image in the dataset, but tricks the target network into assigning high confidence to some other class. "
   ]
  },
  {
   "cell_type": "markdown",
   "metadata": {},
   "source": [
    "## Section 0: Load the data\n",
    "This uses the same dataset as last time, so just copy the data over here in the same format.\n",
    "The same data loading and preprocessing as before is in place."
   ]
  },
  {
   "cell_type": "code",
   "execution_count": 1,
   "metadata": {},
   "outputs": [],
   "source": [
    "%matplotlib inline\n",
    "import numpy as np\n",
    "import tensorflow as tf\n",
    "import matplotlib.pyplot as plt"
   ]
  },
  {
   "cell_type": "code",
   "execution_count": 2,
   "metadata": {},
   "outputs": [],
   "source": [
    "# Seed numpy rng for reproducibility\n",
    "np.random.seed(1337)\n",
    "\n",
    "# Load data\n",
    "x_all = np.load('data/X.npy')\n",
    "y_all = np.load('data/Y.npy')\n",
    "\n",
    "# Maps dataset-provided label to true label\n",
    "label_map = {0:9, 1:0, 2:7, 3:6, 4:1, 5:8, 6:4, 7:3, 8:2, 9:5}\n",
    "\n",
    "# Correct dataset labels\n",
    "for row in range(y_all.shape[0]):\n",
    "    dataset_label = np.where(y_all[row])[0][0]\n",
    "    y_all[row, :] = np.zeros(10)\n",
    "    y_all[row, label_map[dataset_label]] = 1\n",
    "    \n",
    "# Shuffle features and targets together\n",
    "# Credit for this technique to:\n",
    "# https://stackoverflow.com/questions/4601373/\n",
    "# better-way-to-shuffle-two-numpy-arrays-in-unison\n",
    "rng_state = np.random.get_state()\n",
    "np.random.shuffle(x_all)\n",
    "np.random.set_state(rng_state)\n",
    "np.random.shuffle(y_all)\n",
    "\n",
    "# Add a dummy channel axis to input images\n",
    "x_all = np.expand_dims(x_all, axis=-1)\n",
    "\n",
    "# Center and rescale data to the range [-1, 1]\n",
    "x_all = x_all - 0.5\n",
    "x_all = x_all * 2\n",
    "\n",
    "# Create a validation set from 30% of the available data\n",
    "n_points = x_all.shape[0]\n",
    "n_test = int(n_points * 0.3)\n",
    "n_train = n_points - n_test\n",
    "x_train, x_test = np.split(x_all, [n_train], axis=0)\n",
    "y_train, y_test = np.split(y_all, [n_train], axis=0)"
   ]
  },
  {
   "cell_type": "markdown",
   "metadata": {},
   "source": [
    "## Section 1: Train the black-box model\n",
    "Below, I've written a CNN in Keras to classify images from the dataset, and the code to train it.\n",
    "This will act as the \"black box model.\"\n",
    "\n",
    "Train the model using the code below.\n",
    "It should hit about 95-96% validation accuracy on the dataset."
   ]
  },
  {
   "cell_type": "code",
   "execution_count": 3,
   "metadata": {},
   "outputs": [
    {
     "name": "stdout",
     "output_type": "stream",
     "text": [
      "WARNING:tensorflow:From /Users/frank/anaconda3/envs/pytorch/lib/python3.7/site-packages/keras/backend/tensorflow_backend.py:4070: The name tf.nn.max_pool is deprecated. Please use tf.nn.max_pool2d instead.\n",
      "\n",
      "Model: \"model_1\"\n",
      "_________________________________________________________________\n",
      "Layer (type)                 Output Shape              Param #   \n",
      "=================================================================\n",
      "input_1 (InputLayer)         (None, 64, 64, 1)         0         \n",
      "_________________________________________________________________\n",
      "conv2d_1 (Conv2D)            (None, 30, 30, 16)        416       \n",
      "_________________________________________________________________\n",
      "conv2d_2 (Conv2D)            (None, 28, 28, 16)        2320      \n",
      "_________________________________________________________________\n",
      "max_pooling2d_1 (MaxPooling2 (None, 14, 14, 16)        0         \n",
      "_________________________________________________________________\n",
      "conv2d_3 (Conv2D)            (None, 12, 12, 32)        4640      \n",
      "_________________________________________________________________\n",
      "conv2d_4 (Conv2D)            (None, 10, 10, 32)        9248      \n",
      "_________________________________________________________________\n",
      "max_pooling2d_2 (MaxPooling2 (None, 5, 5, 32)          0         \n",
      "_________________________________________________________________\n",
      "conv2d_5 (Conv2D)            (None, 5, 5, 64)          18496     \n",
      "_________________________________________________________________\n",
      "conv2d_6 (Conv2D)            (None, 5, 5, 64)          36928     \n",
      "_________________________________________________________________\n",
      "max_pooling2d_3 (MaxPooling2 (None, 2, 2, 64)          0         \n",
      "_________________________________________________________________\n",
      "flatten_1 (Flatten)          (None, 256)               0         \n",
      "_________________________________________________________________\n",
      "dense_1 (Dense)              (None, 128)               32896     \n",
      "_________________________________________________________________\n",
      "dense_2 (Dense)              (None, 10)                1290      \n",
      "=================================================================\n",
      "Total params: 106,234\n",
      "Trainable params: 106,234\n",
      "Non-trainable params: 0\n",
      "_________________________________________________________________\n"
     ]
    },
    {
     "name": "stderr",
     "output_type": "stream",
     "text": [
      "Using TensorFlow backend.\n"
     ]
    }
   ],
   "source": [
    "from keras.models import Model\n",
    "from keras.layers import Input, Conv2D, Dense, Flatten, MaxPool2D\n",
    "\n",
    "inputs = Input(shape=(64, 64, 1))\n",
    "layer = Conv2D(16, 5, strides=(2, 2), activation='relu')(inputs)\n",
    "layer = Conv2D(16, 3, activation='relu')(layer)\n",
    "layer = MaxPool2D()(layer)\n",
    "\n",
    "layer = Conv2D(32, 3, activation='relu')(layer)\n",
    "layer = Conv2D(32, 3, activation='relu')(layer)\n",
    "layer = MaxPool2D()(layer)\n",
    "\n",
    "layer = Conv2D(64, 3, padding='same', activation='relu')(layer)\n",
    "layer = Conv2D(64, 3, padding='same', activation='relu')(layer)\n",
    "layer = MaxPool2D()(layer)\n",
    "\n",
    "layer = Flatten()(layer)\n",
    "layer = Dense(128, activation='relu')(layer)\n",
    "probs = Dense(10, activation='softmax')(layer)\n",
    "\n",
    "target_model = Model(inputs, probs)\n",
    "target_model.summary()"
   ]
  },
  {
   "cell_type": "code",
   "execution_count": 4,
   "metadata": {},
   "outputs": [],
   "source": [
    "from keras.optimizers import Adam\n",
    "\n",
    "opt = Adam(1e-3)\n",
    "target_model.compile(opt, loss='categorical_crossentropy',\n",
    "              metrics=['accuracy'])"
   ]
  },
  {
   "cell_type": "code",
   "execution_count": 5,
   "metadata": {},
   "outputs": [
    {
     "name": "stdout",
     "output_type": "stream",
     "text": [
      "WARNING:tensorflow:From /Users/frank/anaconda3/envs/pytorch/lib/python3.7/site-packages/keras/backend/tensorflow_backend.py:422: The name tf.global_variables is deprecated. Please use tf.compat.v1.global_variables instead.\n",
      "\n",
      "Train on 1444 samples, validate on 618 samples\n",
      "Epoch 1/15\n",
      "1444/1444 [==============================] - 2s 2ms/step - loss: 2.0055 - accuracy: 0.2957 - val_loss: 1.2560 - val_accuracy: 0.5841\n",
      "Epoch 2/15\n",
      "1444/1444 [==============================] - 2s 2ms/step - loss: 0.8888 - accuracy: 0.7057 - val_loss: 0.5911 - val_accuracy: 0.7929\n",
      "Epoch 3/15\n",
      "1444/1444 [==============================] - 2s 1ms/step - loss: 0.4942 - accuracy: 0.8296 - val_loss: 0.3838 - val_accuracy: 0.8657\n",
      "Epoch 4/15\n",
      "1444/1444 [==============================] - 2s 1ms/step - loss: 0.3164 - accuracy: 0.8864 - val_loss: 0.3574 - val_accuracy: 0.8964\n",
      "Epoch 5/15\n",
      "1444/1444 [==============================] - 2s 1ms/step - loss: 0.1939 - accuracy: 0.9411 - val_loss: 0.2942 - val_accuracy: 0.9094\n",
      "Epoch 6/15\n",
      "1444/1444 [==============================] - 2s 2ms/step - loss: 0.1807 - accuracy: 0.9418 - val_loss: 0.2239 - val_accuracy: 0.9401\n",
      "Epoch 7/15\n",
      "1444/1444 [==============================] - 2s 1ms/step - loss: 0.0851 - accuracy: 0.9675 - val_loss: 0.2072 - val_accuracy: 0.9369\n",
      "Epoch 8/15\n",
      "1444/1444 [==============================] - 2s 1ms/step - loss: 0.0500 - accuracy: 0.9834 - val_loss: 0.2726 - val_accuracy: 0.9256\n",
      "Epoch 9/15\n",
      "1444/1444 [==============================] - 2s 1ms/step - loss: 0.0578 - accuracy: 0.9806 - val_loss: 0.2257 - val_accuracy: 0.9482\n",
      "Epoch 10/15\n",
      "1444/1444 [==============================] - 2s 1ms/step - loss: 0.0383 - accuracy: 0.9903 - val_loss: 0.2371 - val_accuracy: 0.9385\n",
      "Epoch 11/15\n",
      "1444/1444 [==============================] - 2s 1ms/step - loss: 0.0166 - accuracy: 0.9958 - val_loss: 0.1819 - val_accuracy: 0.9595\n",
      "Epoch 12/15\n",
      "1444/1444 [==============================] - 2s 1ms/step - loss: 0.0077 - accuracy: 0.9979 - val_loss: 0.2052 - val_accuracy: 0.9563\n",
      "Epoch 13/15\n",
      "1444/1444 [==============================] - 2s 1ms/step - loss: 0.0194 - accuracy: 0.9958 - val_loss: 0.2467 - val_accuracy: 0.9434\n",
      "Epoch 14/15\n",
      "1444/1444 [==============================] - 2s 1ms/step - loss: 0.0318 - accuracy: 0.9903 - val_loss: 0.2183 - val_accuracy: 0.9450\n",
      "Epoch 15/15\n",
      "1444/1444 [==============================] - 2s 1ms/step - loss: 0.0267 - accuracy: 0.9903 - val_loss: 0.4060 - val_accuracy: 0.9207\n"
     ]
    },
    {
     "data": {
      "text/plain": [
       "<keras.callbacks.callbacks.History at 0x12fa3b6d8>"
      ]
     },
     "execution_count": 5,
     "metadata": {},
     "output_type": "execute_result"
    }
   ],
   "source": [
    "target_model.fit(x_train, y_train, \n",
    "                 validation_data=(x_test, y_test),\n",
    "                 epochs=15)"
   ]
  },
  {
   "cell_type": "markdown",
   "metadata": {},
   "source": [
    "## Section 2: Build an \"oracle dataset\" and data pipeline\n",
    "Now, we'll treat the target model as a black box: pretend we don't have access to its weights or its original input data.\n",
    "In the wild, all we can do is give it inputs and see its outputs.\n",
    "\n",
    "We want to train a surrogate model to act similarly to the target model, so create a fake \"oracle dataset\" where the features are `x_all` and the outputs are the 10-vectors of probability the target model predicts for that input.\n",
    "\n",
    "Then, set up any `tf.data.Dataset` and `tf.data.Iterator` objects you need.\n",
    "In this case we don't have a test set, just a training set."
   ]
  },
  {
   "cell_type": "code",
   "execution_count": 6,
   "metadata": {},
   "outputs": [
    {
     "name": "stdout",
     "output_type": "stream",
     "text": [
      "WARNING:tensorflow:From <ipython-input-6-6cdb8efaba6c>:10: DatasetV1.output_types (from tensorflow.python.data.ops.dataset_ops) is deprecated and will be removed in a future version.\n",
      "Instructions for updating:\n",
      "Use `tf.compat.v1.data.get_output_types(dataset)`.\n",
      "WARNING:tensorflow:From <ipython-input-6-6cdb8efaba6c>:11: DatasetV1.output_shapes (from tensorflow.python.data.ops.dataset_ops) is deprecated and will be removed in a future version.\n",
      "Instructions for updating:\n",
      "Use `tf.compat.v1.data.get_output_shapes(dataset)`.\n",
      "WARNING:tensorflow:From /Users/frank/anaconda3/envs/pytorch/lib/python3.7/site-packages/tensorflow/python/data/ops/iterator_ops.py:348: Iterator.output_types (from tensorflow.python.data.ops.iterator_ops) is deprecated and will be removed in a future version.\n",
      "Instructions for updating:\n",
      "Use `tf.compat.v1.data.get_output_types(iterator)`.\n",
      "WARNING:tensorflow:From /Users/frank/anaconda3/envs/pytorch/lib/python3.7/site-packages/tensorflow/python/data/ops/iterator_ops.py:349: Iterator.output_shapes (from tensorflow.python.data.ops.iterator_ops) is deprecated and will be removed in a future version.\n",
      "Instructions for updating:\n",
      "Use `tf.compat.v1.data.get_output_shapes(iterator)`.\n",
      "WARNING:tensorflow:From /Users/frank/anaconda3/envs/pytorch/lib/python3.7/site-packages/tensorflow/python/data/ops/iterator_ops.py:351: Iterator.output_classes (from tensorflow.python.data.ops.iterator_ops) is deprecated and will be removed in a future version.\n",
      "Instructions for updating:\n",
      "Use `tf.compat.v1.data.get_output_classes(iterator)`.\n"
     ]
    }
   ],
   "source": [
    "# Your code here\n",
    "y_all_oracle = target_model.predict(x_train)\n",
    "x_all_oracle = tf.cast(x_train, dtype=tf.float64)\n",
    "y_all_oracle = tf.cast(y_all_oracle, dtype=tf.float64)\n",
    "n_epochs = 50\n",
    "batch_size = 32\n",
    "dataset_train = tf.data.Dataset.from_tensor_slices((x_all_oracle, y_all_oracle))\\\n",
    "    .shuffle(500).batch(batch_size).cache()\n",
    "iterator = tf.data.Iterator.from_structure(\n",
    "    dataset_train.output_types, \n",
    "    dataset_train.output_shapes)\n",
    "train_init_op = iterator.make_initializer(dataset_train)"
   ]
  },
  {
   "cell_type": "markdown",
   "metadata": {},
   "source": [
    "## Section 3: Build a surrogate model\n",
    "The surrogate model is designed to act similarly to the target model, so that adversarial examples we create for it will also work on the target model.\n",
    "Feel free to use any architecture you want, but matching the target architecture closely (maybe with a bit more capacity) is a good bet.\n",
    "\n",
    "Copy code from last week's assignment liberally.\n",
    "Most likely, you won't have to write all that much new code in this section."
   ]
  },
  {
   "cell_type": "markdown",
   "metadata": {},
   "source": [
    "### 3.1: Input tensors\n",
    "Get a tensor for the input image and another for the correct label.\n",
    "Note that the label is already one-hot encoded."
   ]
  },
  {
   "cell_type": "code",
   "execution_count": 7,
   "metadata": {},
   "outputs": [
    {
     "name": "stdout",
     "output_type": "stream",
     "text": [
      "(?, 64, 64, 1) <dtype: 'float64'>\n",
      "(?, 10) <dtype: 'float64'>\n"
     ]
    }
   ],
   "source": [
    "# Your code here\n",
    "# Your code here\n",
    "with tf.name_scope('inputs'):\n",
    "    next_elem = iterator.get_next()\n",
    "    features, target = next_elem\n",
    "print(features.shape, features.dtype)\n",
    "print(target.shape, target.dtype)"
   ]
  },
  {
   "cell_type": "code",
   "execution_count": 8,
   "metadata": {},
   "outputs": [],
   "source": [
    "def make_dense_layer(prev_activations, dim_input, dim_output, \n",
    "                     do_activation=True, postfix=''):\n",
    "    '''\n",
    "    Adds a dense layer to the model graph.\n",
    "    \n",
    "    Parameters\n",
    "    ----------\n",
    "    prev_activations: tensor\n",
    "        The activations of the previous layer, or \n",
    "        the input for the first dense layer.\n",
    "    dim_input: int\n",
    "        Number of features in the input representation.\n",
    "    dim_output: int\n",
    "        Number of features in the output representation.\n",
    "        Equivalently, number of units in this layer.\n",
    "    do_activation: bool\n",
    "        Whether or not to apply ReLU activation.\n",
    "    postfix: string\n",
    "        Postfix on name and variable scopes in this layer.\n",
    "        Used to simplify visualizations.\n",
    "        \n",
    "    Returns\n",
    "    -------\n",
    "    A tensor representing the activations of this layer.\n",
    "    '''\n",
    "#     with tf.name_scope('dense' + postfix):\n",
    "#         with tf.variable_scope('dense' + postfix):\n",
    "#             # Define variables here\n",
    "#         # Define operations here\n",
    "    #print(prev_activations.shape)\n",
    "    with tf.name_scope('dense' + postfix):\n",
    "        with tf.variable_scope('dense' + postfix): #postfix\n",
    "            # Define variables here\n",
    "            weights = tf.get_variable('weights'+ postfix, shape=(dim_input,dim_output), dtype=tf.float64,\n",
    "                                      initializer=tf.glorot_uniform_initializer())\n",
    "            bias = tf.get_variable('bias'+ postfix, shape=(1,dim_output), dtype=tf.float64,\n",
    "                                   initializer=tf.zeros_initializer())\n",
    "        # Define operations here\n",
    "        output1 = tf.cast(tf.matmul(prev_activations,weights) + bias,tf.float64)\n",
    "        if do_activation:\n",
    "            output2 = tf.cast(tf.nn.relu(output1),tf.float64)\n",
    "        else:\n",
    "            output2 = output1\n",
    "        print('output.shape: ', output2.shape)\n",
    "        return output2"
   ]
  },
  {
   "cell_type": "code",
   "execution_count": 9,
   "metadata": {},
   "outputs": [],
   "source": [
    "def make_conv_layer(input_, input_channels, n_filters,\n",
    "                    filter_size=3, stride=1, \n",
    "                    do_activation=True, pool_size=1,\n",
    "                    add_summary=False, postfix=''):\n",
    "    '''\n",
    "    Adds a convolutional layer to the model graph.\n",
    "    \n",
    "    Parameters\n",
    "    ----------\n",
    "    input_: tensor\n",
    "        The activations of the previous layer, or \n",
    "        the input for the first dense layer.\n",
    "    input_channels: int\n",
    "        Number of channels in the input representation.\n",
    "    n_filters: int\n",
    "        Number of channels in the output representation.\n",
    "        Equivalently, number of filters in this layer.\n",
    "    filter_size: int\n",
    "        Width and height of each kernel in the layer's filters.\n",
    "    stride: int\n",
    "        Stride to use in the x and y directions for the\n",
    "        convolution operation.\n",
    "    do_activation: bool\n",
    "        Whether or not to apply ReLU activation.\n",
    "    pool_size: int\n",
    "        If > 1, does max pooling of this size to the\n",
    "        width and height axes of the activation.\n",
    "    add_summary: bool\n",
    "        Whether or not to log activations as summary images.\n",
    "    postfix: string\n",
    "        Postfix on name and variable scopes in this layer.\n",
    "        Used to simplify visualizations.\n",
    "        \n",
    "    Returns\n",
    "    -------\n",
    "    A tensor representing the activations of this layer.\n",
    "    '''\n",
    "    print('conv' + postfix, input_.shape)\n",
    "    with tf.name_scope('conv' + postfix):\n",
    "        with tf.variable_scope('conv' + postfix):\n",
    "            filters = tf.get_variable('filter'+ postfix, shape=(filter_size, filter_size,input_channels, n_filters), dtype=tf.float32,\n",
    "                                      initializer=tf.glorot_uniform_initializer())\n",
    "            bias = tf.get_variable('bias'+ postfix, shape=(input_.shape[1], input_.shape[2], n_filters), dtype=tf.float32,\n",
    "                                   initializer=tf.zeros_initializer())\n",
    "            pass # Define variables here\n",
    "        \n",
    "        output1 = tf.cast(tf.nn.conv2d(tf.cast(input_,tf.float32), filters, [1,1,1,1], padding='SAME') + bias, dtype=tf.float32)\n",
    "        #!!!\n",
    "        \n",
    "        if do_activation:\n",
    "            output2 = tf.cast(tf.nn.relu(output1),tf.float32)\n",
    "        else:\n",
    "            output2 = output1\n",
    "        \n",
    "        if add_summary:\n",
    "            print('summary: ',tf.transpose(tf.expand_dims(output2[0],axis=-1),perm=[2,0,1,3]).shape)\n",
    "            #print('summary: ',np.expand_dims(tf.transpose(output2[0,:,:,:],perm=[1,2,0]),axis=-1).shape)\n",
    "            tf.summary.image('im', tf.transpose(tf.expand_dims(output2[0],axis=-1),perm=[2,0,1,3])) #???\n",
    "        \n",
    "        if pool_size>1:\n",
    "            output3 = tf.cast(tf.nn.max_pool(output2, ksize=[1, pool_size,pool_size, 1], strides=[1,stride,stride,1], padding='SAME'),tf.float64)\n",
    "        else:\n",
    "            output3 = tf.cast(output2,tf.float64)\n",
    "        \n",
    "        print('output.shape: ', output3.shape)\n",
    "        return output3\n",
    "        pass # Define operations here \n",
    "    "
   ]
  },
  {
   "cell_type": "markdown",
   "metadata": {},
   "source": [
    "### 3.2: Adversarial noise\n",
    "This is the only part of the model that really differs from last week, and it's a bit tricky.\n",
    "\n",
    "Add a variable to the graph that represents the adversarial noise we'll add to one example.\n",
    "It should be the shape of a single input image and initialized to zeros.\n",
    "In addition, pass (to `get_variable`) the keyword argument `constraint=lambda x: tf.clip_by_value(x, -0.3, 0.3)`.\n",
    "Every time the variable is updated, it will become the result of the lambda function, which in this case constrains its pixel values to be in the range -0.3 to 0.3.\n",
    "(Equivalently, at every step we re-project the adversarial noise back into a hypercube at the origin with side length 0.6).\n",
    "I found that 0.3 works well, but feel free to change this value -- smaller values will produce less obvious noise, while larger values will produce more successful attacks. \n",
    "\n",
    "Add a boolean `tf.placeholder_with_default()` (default False) named \"use_noise\" to the graph.\n",
    "This will act as a \"switch\" controlling whether a given run uses adversarial noise.\n",
    "\n",
    "Add a `tf.cond()` operation that, depending on \"use_noise\", switches between the input image and the image plus the adversarial noise.\n",
    "This allows us to train the surrogate model without adversarial noise, then enable it when crafting the adversarial example.\n",
    "\n",
    "Finally, add a summary histogram and a summary image for the adversarial noise tensor, so we can plot it as we're learning the adversarial example.\n",
    "Also add a summary image for the output of `cond`, which will be our adversarial example later"
   ]
  },
  {
   "cell_type": "code",
   "execution_count": 10,
   "metadata": {},
   "outputs": [],
   "source": [
    "# Your code here\n",
    "noise = tf.get_variable('noise', shape=x_all[0].shape, dtype=tf.float32,\n",
    "                        initializer=tf.zeros_initializer(),\n",
    "                        constraint=lambda x: tf.clip_by_value(x, -0.3, 0.3))\n",
    "use_noise = tf.placeholder_with_default(False,shape=())"
   ]
  },
  {
   "cell_type": "code",
   "execution_count": 11,
   "metadata": {},
   "outputs": [
    {
     "data": {
      "text/plain": [
       "TensorShape([Dimension(64), Dimension(64), Dimension(1)])"
      ]
     },
     "execution_count": 11,
     "metadata": {},
     "output_type": "execute_result"
    }
   ],
   "source": [
    "noise.shape"
   ]
  },
  {
   "cell_type": "code",
   "execution_count": 12,
   "metadata": {},
   "outputs": [
    {
     "name": "stdout",
     "output_type": "stream",
     "text": [
      "(?, 64, 64, 1)\n"
     ]
    },
    {
     "data": {
      "text/plain": [
       "<tf.Tensor 'image_of_cond:0' shape=() dtype=string>"
      ]
     },
     "execution_count": 12,
     "metadata": {},
     "output_type": "execute_result"
    }
   ],
   "source": [
    "image_input = tf.cond(use_noise, \n",
    "                 lambda: features + tf.cast(noise,tf.float64), \n",
    "                 lambda: features)\n",
    "print(image_input.shape)\n",
    "tf.summary.image('adv_noise',tf.transpose(tf.expand_dims(noise,axis=-1),perm=[2,0,1,3]))\n",
    "tf.summary.histogram('adv_noise_hist',tf.transpose(tf.expand_dims(noise,axis=-1),perm=[2,0,1,3]))\n",
    "tf.summary.image('image_of_cond',tf.transpose(tf.expand_dims(image_input[0],axis=-1),perm=[2,0,1,3]))"
   ]
  },
  {
   "cell_type": "markdown",
   "metadata": {},
   "source": [
    "### 3.3: The rest of the model\n",
    "Using the functions `make_dense_layer()` and `make_conv_layer()` you wrote last week, finish the graph of the surrogate model.\n",
    "The only difference is that instead of using the input image, you should use the output of the `cond()` switch before, to allow adding adversarial noise.\n",
    "Don't add the optimizer yet.\n",
    "\n",
    "This should involve tensors that:\n",
    " - Act as hidden convolutional and dense layers\n",
    " - Compute the logits and probabilities for a batch of input images\n",
    " - Compute the predicted digit from the probabilities\n",
    " - Compute the mean cross-entropy loss over a batch"
   ]
  },
  {
   "cell_type": "code",
   "execution_count": 13,
   "metadata": {},
   "outputs": [
    {
     "name": "stdout",
     "output_type": "stream",
     "text": [
      "convh1 (?, 64, 64, 1)\n",
      "WARNING:tensorflow:From /Users/frank/anaconda3/envs/pytorch/lib/python3.7/site-packages/tensorflow/python/ops/init_ops.py:1251: calling VarianceScaling.__init__ (from tensorflow.python.ops.init_ops) with dtype is deprecated and will be removed in a future version.\n",
      "Instructions for updating:\n",
      "Call initializer instance with the dtype argument instead of passing it to the constructor\n",
      "output.shape:  (?, 32, 32, 16)\n",
      "convh2 (?, 32, 32, 16)\n",
      "output.shape:  (?, 16, 16, 16)\n",
      "convh3 (?, 16, 16, 16)\n",
      "output.shape:  (?, 16, 16, 32)\n",
      "convh4 (?, 16, 16, 32)\n",
      "output.shape:  (?, 8, 8, 32)\n",
      "convh5 (?, 8, 8, 32)\n",
      "output.shape:  (?, 8, 8, 64)\n",
      "convh6 (?, 8, 8, 64)\n",
      "output.shape:  (?, 4, 4, 64)\n",
      "output.shape:  (?, 128)\n",
      "output.shape:  (?, 10)\n",
      "(?,)\n",
      "()\n"
     ]
    }
   ],
   "source": [
    "# Your code here\n",
    "# inputs = Input(shape=(64, 64, 1))\n",
    "# layer = Conv2D(16, 5, strides=(2, 2), activation='relu')(inputs)\n",
    "# layer = Conv2D(16, 3, activation='relu')(layer)\n",
    "# layer = MaxPool2D()(layer)\n",
    "\n",
    "# layer = Conv2D(32, 3, activation='relu')(layer)\n",
    "# layer = Conv2D(32, 3, activation='relu')(layer)\n",
    "# layer = MaxPool2D()(layer)\n",
    "\n",
    "# layer = Conv2D(64, 3, padding='same', activation='relu')(layer)\n",
    "# layer = Conv2D(64, 3, padding='same', activation='relu')(layer)\n",
    "# layer = MaxPool2D()(layer)\n",
    "\n",
    "# layer = Flatten()(layer)\n",
    "# layer = Dense(128, activation='relu')(layer)\n",
    "# probs = Dense(10, activation='softmax')(layer)\n",
    "hidden_layer_1 = make_conv_layer(image_input, input_channels=1, n_filters=16, filter_size=5, \n",
    "                                 stride=2, do_activation=True, pool_size=2, add_summary=False, postfix='h1')\n",
    "hidden_layer_2 = make_conv_layer(hidden_layer_1, input_channels=16, n_filters=16, filter_size=3, \n",
    "                                 stride=2, do_activation=True, pool_size=2, add_summary=False, postfix='h2')\n",
    "hidden_layer_3 = make_conv_layer(hidden_layer_2, input_channels=16, n_filters=32, filter_size=3, \n",
    "                                 stride=1, do_activation=True, pool_size=1, add_summary=False, postfix='h3')\n",
    "hidden_layer_4 = make_conv_layer(hidden_layer_3, input_channels=32, n_filters=32, filter_size=3, \n",
    "                                 stride=2, do_activation=True, pool_size=2, add_summary=False, postfix='h4')\n",
    "hidden_layer_5 = make_conv_layer(hidden_layer_4, input_channels=32, n_filters=64, filter_size=3, \n",
    "                                 stride=1, do_activation=True, pool_size=1, add_summary=False, postfix='h5')\n",
    "hidden_layer_6 = make_conv_layer(hidden_layer_5, input_channels=64, n_filters=64, filter_size=5, \n",
    "                                 stride=2, do_activation=True, pool_size=2, add_summary=False, postfix='h6')\n",
    "\n",
    "hidden_layer_7 = make_dense_layer(tf.reshape(hidden_layer_6,(-1,1024)),1024,128,do_activation=True,postfix='h7')\n",
    "\n",
    "logits = make_dense_layer(hidden_layer_7,128,10,do_activation=False,postfix='logits') #logits\n",
    "\n",
    "class_probabilities = tf.nn.softmax(logits)\n",
    "\n",
    "cross_entropy_per_example = -tf.reduce_sum(target*tf.log(class_probabilities),axis=1)\n",
    "print(cross_entropy_per_example.shape)\n",
    "cross_entropy_batch = tf.reduce_mean(cross_entropy_per_example)\n",
    "print(cross_entropy_batch.shape)"
   ]
  },
  {
   "cell_type": "markdown",
   "metadata": {},
   "source": [
    "### 3.4: Surrogate optimizer\n",
    "Add an optimizer and update operation we'll use to train the surrogate model to act like the target model.\n",
    "It should just minimize the cross-entropy loss between the model's predictions and the targets."
   ]
  },
  {
   "cell_type": "code",
   "execution_count": 14,
   "metadata": {},
   "outputs": [],
   "source": [
    "# Your code here\n",
    "optimizer = tf.train.MomentumOptimizer(learning_rate=1e-3, momentum=0.9)\n",
    "optimize_step = optimizer.minimize(cross_entropy_batch)\n"
   ]
  },
  {
   "cell_type": "markdown",
   "metadata": {},
   "source": [
    "### 3.5: Adversarial loss\n",
    "When training the surrogate model, we want to change the model parameters to minimize the loss.\n",
    "When creating the adversarial example, we want to do something very different: _change the adversarial noise tensor alone to maximize the loss_.\n",
    "\n",
    "So, define a new adversarial loss which is the negative of the original loss, and a new optimizer to minimize it.\n",
    "When you call `minimize()`, pass in the keyword argument `var_list=[noise]`, where \"noise\" is the name of your adversarial noise tensor.\n",
    "This will prevent the optimizer from changing the weights of the model when we optimize the adversarial noise.\n",
    "\n",
    "Finally, add a summary scalar to plot the adversarial loss decreasing."
   ]
  },
  {
   "cell_type": "code",
   "execution_count": 15,
   "metadata": {},
   "outputs": [
    {
     "data": {
      "text/plain": [
       "<tf.Tensor 'adv_loss:0' shape=() dtype=string>"
      ]
     },
     "execution_count": 15,
     "metadata": {},
     "output_type": "execute_result"
    }
   ],
   "source": [
    "# Your code here\n",
    "adversarial_loss = (-1) * cross_entropy_batch\n",
    "adv_optimizer = tf.train.AdamOptimizer(learning_rate=0.001, beta1=0.9, beta2=0.999, epsilon=1e-08, use_locking=False)\n",
    "adv_optimize_step = adv_optimizer.minimize(adversarial_loss, var_list=[noise])\n",
    "\n",
    "tf.summary.scalar('adv_loss', adversarial_loss)"
   ]
  },
  {
   "cell_type": "code",
   "execution_count": 16,
   "metadata": {},
   "outputs": [
    {
     "name": "stdout",
     "output_type": "stream",
     "text": [
      "(?,)\n",
      "(?,)\n",
      "()\n"
     ]
    }
   ],
   "source": [
    "pred_label = tf.argmax(class_probabilities,axis=1)\n",
    "print(pred_label.shape)\n",
    "correctness = tf.equal(pred_label, tf.argmax(target,axis=1))\n",
    "print(correctness.shape)\n",
    "accuracy = tf.reduce_mean(tf.cast(correctness,tf.float64))\n",
    "print(accuracy.shape)"
   ]
  },
  {
   "cell_type": "markdown",
   "metadata": {},
   "source": [
    "## 4: Train the surrogate model\n",
    "Train your surrogate model until it hits high accuracy.\n",
    "At the very least it should have 90% accuracy -- I hit 98-100% on the training set.\n",
    "Overfitting isn't really a concern here since we are actually trying to memorize the peculiarities of the target model.\n",
    "\n",
    "When the training loop is done, save the model under `./checkpoints/model_surrogate.ckpt`.\n",
    "We won't be modifying this particular checkpoint any more, it'll contain the fully-trained surrogate model with zero adversarial noise."
   ]
  },
  {
   "cell_type": "code",
   "execution_count": 17,
   "metadata": {},
   "outputs": [
    {
     "name": "stdout",
     "output_type": "stream",
     "text": [
      "Epoch: 0\n",
      "Average training set accuracy: 0.10122282608695653\n",
      "Epoch: 1\n",
      "Average training set accuracy: 0.13451086956521738\n",
      "Epoch: 2\n",
      "Average training set accuracy: 0.15421195652173914\n",
      "Epoch: 3\n",
      "Average training set accuracy: 0.17866847826086957\n",
      "Epoch: 4\n",
      "Average training set accuracy: 0.20652173913043478\n",
      "Epoch: 5\n",
      "Average training set accuracy: 0.18953804347826086\n",
      "Epoch: 6\n",
      "Average training set accuracy: 0.20040760869565216\n",
      "Epoch: 7\n",
      "Average training set accuracy: 0.22146739130434784\n",
      "Epoch: 8\n",
      "Average training set accuracy: 0.22214673913043478\n",
      "Epoch: 9\n",
      "Average training set accuracy: 0.25\n",
      "Epoch: 10\n",
      "Average training set accuracy: 0.265625\n",
      "Epoch: 11\n",
      "Average training set accuracy: 0.3111413043478261\n",
      "Epoch: 12\n",
      "Average training set accuracy: 0.33152173913043476\n",
      "Epoch: 13\n",
      "Average training set accuracy: 0.41915760869565216\n",
      "Epoch: 14\n",
      "Average training set accuracy: 0.5081521739130435\n",
      "Epoch: 15\n",
      "Average training set accuracy: 0.6188858695652174\n",
      "Epoch: 16\n",
      "Average training set accuracy: 0.7038043478260869\n",
      "Epoch: 17\n",
      "Average training set accuracy: 0.7737771739130435\n",
      "Epoch: 18\n",
      "Average training set accuracy: 0.7839673913043478\n",
      "Epoch: 19\n",
      "Average training set accuracy: 0.8430706521739131\n",
      "Epoch: 20\n",
      "Average training set accuracy: 0.860733695652174\n",
      "Epoch: 21\n",
      "Average training set accuracy: 0.8661684782608695\n",
      "Epoch: 22\n",
      "Average training set accuracy: 0.8994565217391305\n",
      "Epoch: 23\n",
      "Average training set accuracy: 0.8960597826086957\n",
      "Epoch: 24\n",
      "Average training set accuracy: 0.9225543478260869\n",
      "Epoch: 25\n",
      "Average training set accuracy: 0.9408967391304348\n",
      "Epoch: 26\n",
      "Average training set accuracy: 0.9497282608695652\n",
      "Epoch: 27\n",
      "Average training set accuracy: 0.9504076086956522\n",
      "Epoch: 28\n",
      "Average training set accuracy: 0.9578804347826086\n",
      "Epoch: 29\n",
      "Average training set accuracy: 0.9524456521739131\n"
     ]
    }
   ],
   "source": [
    "# Your code here\n",
    "# Training code\n",
    "saver = tf.train.Saver() # Save varibles\n",
    "merged_summaries = tf.summary.merge_all() # Single merged summary op\n",
    "\n",
    "n_epochs = 30\n",
    "batch_size = 32\n",
    "\n",
    "train_batch = 0\n",
    "test_batch = 0\n",
    "\n",
    "with tf.Session() as sess:\n",
    "    # Make one writer for training logs and another for test logs \n",
    "    train_writer = tf.summary.FileWriter('./logs_lab/train', graph=sess.graph)\n",
    "    test_writer = tf.summary.FileWriter('./logs_lab/test')\n",
    "    \n",
    "    # Initialize all variables\n",
    "    sess.run(tf.global_variables_initializer())\n",
    "    \n",
    "    # Training loop\n",
    "    for epoch in range(n_epochs):\n",
    "        # Load training data\n",
    "        sess.run(train_init_op)\n",
    "        accuracies = []\n",
    "        # Iterate over the dataset once\n",
    "        while True:\n",
    "            try:\n",
    "                if train_batch > 0: # Typical batch\n",
    "                    # Run summary ops and optimization\n",
    "                    summary, _, pred_accuracy = sess.run([merged_summaries, optimize_step, accuracy])\n",
    "                    accuracies.append(pred_accuracy)\n",
    "                    \n",
    "                    train_writer.add_summary(summary, train_batch)\n",
    "                    train_batch += 1\n",
    "                else:\n",
    "                    # On the first batch, run a full trace\n",
    "                    run_options = tf.RunOptions(trace_level=tf.RunOptions.FULL_TRACE)\n",
    "                    run_metadata = tf.RunMetadata()\n",
    "                    \n",
    "                    summary, _, pred_accuracy = sess.run([merged_summaries, optimize_step, accuracy],\n",
    "                                          options=run_options,\n",
    "                                          run_metadata=run_metadata)\n",
    "                    accuracies.append(pred_accuracy)\n",
    "                    \n",
    "                    train_writer.add_summary(summary, train_batch)    \n",
    "                    train_writer.add_run_metadata(run_metadata, \n",
    "                                                  'first training batch')\n",
    "                    train_batch += 1\n",
    "            except tf.errors.OutOfRangeError: # No more data\n",
    "                break\n",
    "    \n",
    "        \n",
    "        print('Epoch:', epoch)\n",
    "#         sess.run(test_init_op)\n",
    "#         accuracies = [] # Track average loss over test set\n",
    "#         while True:\n",
    "#             try:\n",
    "#                 summary, pred_accuracy = sess.run([merged_summaries, accuracy])\n",
    "#                 accuracies.append(pred_accuracy)\n",
    "\n",
    "#                 # Roughly align test batches with training batches\n",
    "#                 test_writer.add_summary(summary, test_batch)\n",
    "#                 test_batch += 1\n",
    "#             except tf.errors.OutOfRangeError:\n",
    "#                 break\n",
    "        average_accuracy = np.mean(accuracies)\n",
    "        print('Average training set accuracy:', average_accuracy)\n",
    "        \n",
    "    # Save model\n",
    "    saver.save(sess, './checkpoints/model_surrogate.ckpt')"
   ]
  },
  {
   "cell_type": "markdown",
   "metadata": {},
   "source": [
    "## 5. Learn the adversarial example\n",
    "Finally, it's time to create an adversarial example using our surrogate model.\n",
    "Pick an image from the test set (or use the one I picked below), then run a training loop to minimize the adversarial loss (equivalently, maximize the model loss on that example).\n",
    "To do this, use `sess.run(..., feed_dict={pixels: [img], label: [lbl], use_noise: True})`.\n",
    "This turns on the `use_noise` switch we set before, and overwrites the input image batch with a \"batch\" containing only the single image we're going to turn into an adversarial example.\n",
    "\n",
    "At the start, load the checkpoint we saved before.\n",
    "When it's done, save it to a new checkpoint, `./checkpoints/model_adversarial.ckpt`.\n",
    "This new checkpoint should have exactly the same model parameters as before (remember that we're only optimizing the noise), but a nonzero noise tensor.\n",
    "\n",
    "At the end, also save the adversarial example (which will be contained in the result of your `cond`) and the noise tensor to a numpy array so we can use them later.\n",
    "\n",
    "Periodically write the image and histogram summaries so you can look at them in TensorBoard later."
   ]
  },
  {
   "cell_type": "code",
   "execution_count": 45,
   "metadata": {},
   "outputs": [
    {
     "data": {
      "text/plain": [
       "Text(0.5, 1.0, 'True label: 9')"
      ]
     },
     "execution_count": 45,
     "metadata": {},
     "output_type": "execute_result"
    },
    {
     "data": {
      "image/png": "[encoded data removed]",
      "text/plain": [
       "<Figure size 432x288 with 1 Axes>"
      ]
     },
     "metadata": {
      "needs_background": "light"
     },
     "output_type": "display_data"
    }
   ],
   "source": [
    "# Pick and plot the image we'll turn into an adversarial example\n",
    "idx = 1\n",
    "img = x_test[idx]\n",
    "lbl = y_test[idx]\n",
    "\n",
    "plt.imshow(img[:, :, 0], cmap='gray')\n",
    "plt.title('True label: {}'.format(np.argmax(lbl)))"
   ]
  },
  {
   "cell_type": "code",
   "execution_count": 19,
   "metadata": {},
   "outputs": [
    {
     "data": {
      "text/plain": [
       "array([0., 0., 0., 0., 0., 0., 0., 0., 0., 1.])"
      ]
     },
     "execution_count": 19,
     "metadata": {},
     "output_type": "execute_result"
    }
   ],
   "source": [
    "lbl"
   ]
  },
  {
   "cell_type": "code",
   "execution_count": 46,
   "metadata": {},
   "outputs": [
    {
     "name": "stdout",
     "output_type": "stream",
     "text": [
      "INFO:tensorflow:Restoring parameters from ./checkpoints/model_surrogate.ckpt\n"
     ]
    }
   ],
   "source": [
    "# Your code here\n",
    "with tf.Session() as sess:\n",
    "    saver.restore(sess, './checkpoints/model_surrogate.ckpt')\n",
    "    init_new_vars_op = tf.initialize_variables([noise])\n",
    "    sess.run(init_new_vars_op)\n",
    "    for _ in range(1000):\n",
    "        sess.run([adv_optimize_step], feed_dict={features: [img], target: [lbl], use_noise: True})\n",
    "    saver.save(sess, './checkpoints/model_adversarial.ckpt')"
   ]
  },
  {
   "cell_type": "markdown",
   "metadata": {},
   "source": [
    "## 6: Visualize the adversarial example\n",
    "Plot the original example, the adversarial example, and the adversarial noise below."
   ]
  },
  {
   "cell_type": "code",
   "execution_count": 47,
   "metadata": {},
   "outputs": [
    {
     "name": "stdout",
     "output_type": "stream",
     "text": [
      "INFO:tensorflow:Restoring parameters from ./checkpoints/model_adversarial.ckpt\n"
     ]
    }
   ],
   "source": [
    "# Your code here\n",
    "with tf.Session() as sess:\n",
    "    saver.restore(sess, './checkpoints/model_adversarial.ckpt')\n",
    "    n = sess.run([noise])\n",
    "    noise_img = n[0][:,:,0]"
   ]
  },
  {
   "cell_type": "code",
   "execution_count": 48,
   "metadata": {},
   "outputs": [
    {
     "data": {
      "text/plain": [
       "<matplotlib.image.AxesImage at 0x135c83da0>"
      ]
     },
     "execution_count": 48,
     "metadata": {},
     "output_type": "execute_result"
    },
    {
     "data": {
      "image/png": "[encoded data removed]",
      "text/plain": [
       "<Figure size 432x288 with 1 Axes>"
      ]
     },
     "metadata": {
      "needs_background": "light"
     },
     "output_type": "display_data"
    }
   ],
   "source": [
    "plt.imshow(noise_img,cmap='gray')"
   ]
  },
  {
   "cell_type": "code",
   "execution_count": 49,
   "metadata": {},
   "outputs": [
    {
     "data": {
      "text/plain": [
       "<matplotlib.image.AxesImage at 0x1334cfcc0>"
      ]
     },
     "execution_count": 49,
     "metadata": {},
     "output_type": "execute_result"
    },
    {
     "data": {
      "image/png": "[encoded data removed]",
      "text/plain": [
       "<Figure size 432x288 with 1 Axes>"
      ]
     },
     "metadata": {
      "needs_background": "light"
     },
     "output_type": "display_data"
    }
   ],
   "source": [
    "plt.imshow(img[:,:,0], cmap='gray')"
   ]
  },
  {
   "cell_type": "code",
   "execution_count": 50,
   "metadata": {},
   "outputs": [
    {
     "data": {
      "text/plain": [
       "<matplotlib.image.AxesImage at 0x134bb3b00>"
      ]
     },
     "execution_count": 50,
     "metadata": {},
     "output_type": "execute_result"
    },
    {
     "data": {
      "image/png": "[encoded data removed]",
      "text/plain": [
       "<Figure size 432x288 with 1 Axes>"
      ]
     },
     "metadata": {
      "needs_background": "light"
     },
     "output_type": "display_data"
    }
   ],
   "source": [
    "plt.imshow(noise_img+img[:,:,0], cmap='gray')"
   ]
  },
  {
   "cell_type": "markdown",
   "metadata": {},
   "source": [
    "## 7: Demonstrate that the surrogate model fails on the adversarial example\n",
    "Compute the surrogate model's prediction and probability for the original example and the adversarial example, and compare them."
   ]
  },
  {
   "cell_type": "code",
   "execution_count": 57,
   "metadata": {},
   "outputs": [
    {
     "name": "stdout",
     "output_type": "stream",
     "text": [
      "INFO:tensorflow:Restoring parameters from ./checkpoints/model_adversarial.ckpt\n",
      "without noise:  9\n",
      "with noise:  4\n"
     ]
    }
   ],
   "source": [
    "# Your code here\n",
    "with tf.Session() as sess:\n",
    "    saver.restore(sess, './checkpoints/model_adversarial.ckpt')\n",
    "    probs = sess.run([class_probabilities], feed_dict={features: [img], target: [lbl], use_noise: False})\n",
    "    #print(probs[0])\n",
    "    print('without noise: ', np.argmax(probs[0][0]))\n",
    "    probs = sess.run([class_probabilities], feed_dict={features: [img], target: [lbl], use_noise: True})\n",
    "    #print(probs[0])\n",
    "    print('with noise: ', np.argmax(probs[0][0]))"
   ]
  },
  {
   "cell_type": "markdown",
   "metadata": {},
   "source": [
    "## 8: Demonstrate that the target model fails on the adversarial example\n",
    "This is the real test -- transferring the learned adversarial example from the surrogate model to the target model.\n",
    "Compute the target model's prediction and probability for the original example and the adversarial example, and compare them."
   ]
  },
  {
   "cell_type": "code",
   "execution_count": 58,
   "metadata": {},
   "outputs": [
    {
     "name": "stdout",
     "output_type": "stream",
     "text": [
      "without noise:  9\n",
      "with noise:  4\n"
     ]
    }
   ],
   "source": [
    "# Your code here\n",
    "print('without noise: ', np.argmax(target_model.predict(x_test),axis=1)[1])\n",
    "print('with noise: ', np.argmax(target_model.predict(x_test+n[0]),axis=1)[1])"
   ]
  },
  {
   "cell_type": "markdown",
   "metadata": {},
   "source": [
    "# Congratulations, you've carried out a black-box adversarial attack!\n",
    "These kinds of adversarial attacks are a serious concern in the real world, since they can be [made to work when printed on paper](https://blog.openai.com/robust-adversarial-inputs/) and [we're still bad at defending against them](https://blog.openai.com/adversarial-example-research/).\n",
    "\n",
    "Some interesting things to try:\n",
    " - Did the surrogate model and the target model misclassify the adversarial example in the same way? (Mine did)\n",
    " - How subtle can you make the noise while still tricking the target network?\n",
    " - Look at how the adversarial example evolves through training in TensorBoard"
   ]
  }
 ],
 "metadata": {
  "kernelspec": {
   "display_name": "Pytorch for Deeplearning",
   "language": "python",
   "name": "pytorch"
  },
  "language_info": {
   "codemirror_mode": {
    "name": "ipython",
    "version": 3
   },
   "file_extension": ".py",
   "mimetype": "text/x-python",
   "name": "python",
   "nbconvert_exporter": "python",
   "pygments_lexer": "ipython3",
   "version": "3.7.3"
  }
 },
 "nbformat": 4,
 "nbformat_minor": 2
}
