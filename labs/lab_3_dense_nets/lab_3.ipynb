{
 "cells": [
  {
   "cell_type": "markdown",
   "metadata": {},
   "source": [
    "# Lab 3: Mapping with Fully-Connected Networks\n",
    "Blocks of dense layers are really good at memorizing patterns.\n",
    "This week we'll step outside the traditional \"prediction\" regime of machine learning and use a fully-connected network (FCN) to represent a 2-D scene in its weight by interpolating between known points.\n",
    "\n",
    "Throughout, you should be impressed by two (related) properties of dense neural nets:\n",
    " - They have high enough capacity to entirely memorize complex patterns\n",
    " - They are sufficiently nonlinear to build these patterns up from simple inputs (like (x, y) coordinates in this case)"
   ]
  },
  {
   "cell_type": "code",
   "execution_count": 1,
   "metadata": {},
   "outputs": [],
   "source": [
    "%matplotlib inline\n",
    "\n",
    "import numpy as np\n",
    "import tensorflow as tf\n",
    "import matplotlib.pyplot as plt"
   ]
  },
  {
   "cell_type": "markdown",
   "metadata": {},
   "source": [
    "# Pointcloud mapping\n",
    "\n",
    "![full scene](./images/full_scene.png)\n",
    "\n",
    "### The problem\n",
    "Imagine there is a square (2-D) room with four walls and several square and circular objects in it.\n",
    "We put laser distance sensors around the room, which shoot rays that continue until they hit an object or a wall and report the distance, with limited angular and radial resolution.\n",
    "We want to use this limited data to produce a full 2-D reconstruction of the scene, filling in points the sensors haven't observed with likely values (in essence, interpolating).\n",
    "\n",
    "### The data\n",
    "We know that every ray that there's an object at the point each ray hit, and we also know that there's no object between the camera and the contact point.\n",
    "The data is provided as (x, y) pairs, where some points correspond to places we know are on object boundaries (shown in green above) and points we know are not inside objects (shown in red above).\n",
    "\n",
    "These points come in two data files: `data/positives.txt` for points on the edge of objects, and `data/negatives.txt` for points outside of objects.\n",
    "To generate these files, run `make_data.py`.\n",
    "\n",
    "(Check out the code if you want to see how the points are generated, but don't change anything!)\n",
    "\n",
    "### The model\n",
    "We want to store a full description of the scene in the weights of a neural network.\n",
    "To do this, we'll train a FCN to classify (x, y) points by whether or not they are the edge of a wall or object.\n",
    "Then, we can draw the scene by sampling (x, y) pairs and drawing the model's output.\n",
    "So, the network has \"memorized\" where the objects and walls are, and what their shapes are."
   ]
  },
  {
   "cell_type": "markdown",
   "metadata": {},
   "source": [
    "# Section 1: Load the data\n",
    "Load the data using `np.loadtxt()` (default arguments should work), then convert it to a usable format with a feature array and label array, which is 1 if a point is the edge of an object and 0 if it is not.\n",
    "\n",
    "Functions to look at:\n",
    " - `np.loadtxt`\n",
    " - `np.concatenate`"
   ]
  },
  {
   "cell_type": "code",
   "execution_count": 2,
   "metadata": {},
   "outputs": [
    {
     "name": "stdout",
     "output_type": "stream",
     "text": [
      "(838, 3)\n",
      "(27718, 3)\n",
      "(28556, 3)\n",
      "[[ 0.66510214  0.14954305]\n",
      " [-0.24156918 -0.37723047]\n",
      " [ 0.04821547  0.38497344]\n",
      " ...\n",
      " [ 0.79019996  0.95799667]\n",
      " [ 0.65148506  0.01102537]\n",
      " [ 0.77026553  0.54838387]]\n",
      "[0. 0. 0. ... 0. 0. 0.]\n"
     ]
    }
   ],
   "source": [
    "# Your code here\n",
    "pos_data = np.loadtxt('./data/positives.txt')\n",
    "pos_label = np.ones([pos_data.shape[0],1])\n",
    "pos_data_full = np.concatenate((pos_data,pos_label),axis=1)\n",
    "neg_data = np.loadtxt('./data/negatives.txt')\n",
    "neg_label = np.zeros([neg_data.shape[0],1])\n",
    "neg_data_full = np.concatenate((neg_data,neg_label),axis=1)\n",
    "print(pos_data_full.shape)\n",
    "print(neg_data_full.shape)\n",
    "\n",
    "together = np.concatenate((pos_data_full,neg_data_full))\n",
    "np.random.shuffle(together)\n",
    "print(together.shape)\n",
    "x_all = together[:, :-1]\n",
    "y_all = together[:, -1]\n",
    "print(x_all)\n",
    "print(y_all)"
   ]
  },
  {
   "cell_type": "code",
   "execution_count": 3,
   "metadata": {},
   "outputs": [
    {
     "data": {
      "text/plain": [
       "838.0"
      ]
     },
     "execution_count": 3,
     "metadata": {},
     "output_type": "execute_result"
    }
   ],
   "source": [
    "sum(y_all)"
   ]
  },
  {
   "cell_type": "markdown",
   "metadata": {},
   "source": [
    "# Section 2: Build a data pipeline\n",
    "Set up a `tf.data.Dataset` and a `tf.data.Iterator`.\n",
    "This time, there's no test set, just a single dataset."
   ]
  },
  {
   "cell_type": "code",
   "execution_count": 4,
   "metadata": {},
   "outputs": [],
   "source": [
    "# Your code here\n",
    "n_epochs = 100\n",
    "batch_size = 32\n",
    "dataset_train = tf.data.Dataset.from_tensor_slices((x_all, y_all))\\\n",
    "    .shuffle(500).batch(batch_size).cache()"
   ]
  },
  {
   "cell_type": "code",
   "execution_count": 5,
   "metadata": {},
   "outputs": [
    {
     "name": "stdout",
     "output_type": "stream",
     "text": [
      "WARNING:tensorflow:From <ipython-input-5-5b468279cd3f>:2: DatasetV1.output_types (from tensorflow.python.data.ops.dataset_ops) is deprecated and will be removed in a future version.\n",
      "Instructions for updating:\n",
      "Use `tf.compat.v1.data.get_output_types(dataset)`.\n",
      "WARNING:tensorflow:From <ipython-input-5-5b468279cd3f>:3: DatasetV1.output_shapes (from tensorflow.python.data.ops.dataset_ops) is deprecated and will be removed in a future version.\n",
      "Instructions for updating:\n",
      "Use `tf.compat.v1.data.get_output_shapes(dataset)`.\n",
      "WARNING:tensorflow:From /Users/frank/anaconda3/envs/pytorch/lib/python3.7/site-packages/tensorflow/python/data/ops/iterator_ops.py:348: Iterator.output_types (from tensorflow.python.data.ops.iterator_ops) is deprecated and will be removed in a future version.\n",
      "Instructions for updating:\n",
      "Use `tf.compat.v1.data.get_output_types(iterator)`.\n",
      "WARNING:tensorflow:From /Users/frank/anaconda3/envs/pytorch/lib/python3.7/site-packages/tensorflow/python/data/ops/iterator_ops.py:349: Iterator.output_shapes (from tensorflow.python.data.ops.iterator_ops) is deprecated and will be removed in a future version.\n",
      "Instructions for updating:\n",
      "Use `tf.compat.v1.data.get_output_shapes(iterator)`.\n",
      "WARNING:tensorflow:From /Users/frank/anaconda3/envs/pytorch/lib/python3.7/site-packages/tensorflow/python/data/ops/iterator_ops.py:351: Iterator.output_classes (from tensorflow.python.data.ops.iterator_ops) is deprecated and will be removed in a future version.\n",
      "Instructions for updating:\n",
      "Use `tf.compat.v1.data.get_output_classes(iterator)`.\n"
     ]
    }
   ],
   "source": [
    "iterator = tf.data.Iterator.from_structure(\n",
    "    dataset_train.output_types, \n",
    "    dataset_train.output_shapes)\n",
    "train_init_op = iterator.make_initializer(dataset_train)"
   ]
  },
  {
   "cell_type": "markdown",
   "metadata": {},
   "source": [
    "# Section 3: Build a model graph\n",
    "The model is a simple fully-connected neural network with four hidden layers, each with 64 units, and an output layer that performs binary classification with sigmoid activation.\n",
    "Recall that the input is just a pair (x, y).\n",
    "\n",
    "Functions to look at throughout:\n",
    " - `tf.cast`\n",
    " - `tf.expand_dims`\n",
    " - `tf.squeeze`\n",
    " - arithmetic operations"
   ]
  },
  {
   "cell_type": "markdown",
   "metadata": {},
   "source": [
    "### 3.1: Input tensors\n",
    "Get a tensor for the input coordinates and for the correct label."
   ]
  },
  {
   "cell_type": "code",
   "execution_count": 6,
   "metadata": {},
   "outputs": [
    {
     "name": "stdout",
     "output_type": "stream",
     "text": [
      "(?,)\n"
     ]
    }
   ],
   "source": [
    "# Your code here\n",
    "# Input tensors\n",
    "with tf.name_scope('inputs'):\n",
    "    next_elem = iterator.get_next()\n",
    "    features, target = next_elem\n",
    "print(target.shape)"
   ]
  },
  {
   "cell_type": "code",
   "execution_count": 7,
   "metadata": {},
   "outputs": [],
   "source": [
    "n_points = x_all.shape[0]\n",
    "n_features = x_all.shape[1]\n",
    "n_train = n_points # only training set"
   ]
  },
  {
   "cell_type": "markdown",
   "metadata": {},
   "source": [
    "### 3.2: Helper function to make dense layers\n",
    "It's tedious (and bad design) to explicitly write out every variable, matrix multiplication, etc.\n",
    "Instead, it's common to define helper functions that create one of a structure you expect to repeat in your model.\n",
    "\n",
    "Write a function called `make_dense_layer(...)`, which has its signature and scopes defined as a stub below.\n",
    "When called, it should add variables and operations to the graph which implement a single dense layer.\n",
    "\n",
    "If `do_activation` is True, it should apply ReLU activation to the computed values.\n",
    "To do this, you can use `tf.nn.relu`."
   ]
  },
  {
   "cell_type": "code",
   "execution_count": 8,
   "metadata": {},
   "outputs": [],
   "source": [
    "def make_dense_layer(prev_activations, dim_input, dim_output, \n",
    "                     do_activation=True, postfix=''):\n",
    "    '''\n",
    "    Adds a dense layer to the model graph.\n",
    "    \n",
    "    Parameters\n",
    "    ----------\n",
    "    prev_activations: tensor\n",
    "        The activations of the previous layer, or \n",
    "        the input for the first dense layer.\n",
    "    dim_input: int\n",
    "        Number of features in the input representation.\n",
    "    dim_output: int\n",
    "        Number of features in the output representation.\n",
    "        Equivalently, number of units in this layer.\n",
    "    do_activation: bool\n",
    "        Whether or not to apply ReLU activation.\n",
    "    postfix: string\n",
    "        Postfix on name and variable scopes in this layer.\n",
    "        Used to simplify visualizations.\n",
    "        \n",
    "    Returns\n",
    "    -------\n",
    "    A tensor representing the activations of this layer.\n",
    "    '''\n",
    "    print(prev_activations.shape)\n",
    "    with tf.name_scope('dense' + postfix):\n",
    "        with tf.variable_scope('dense' + postfix): #postfix\n",
    "            # Define variables here\n",
    "            weights = tf.get_variable('weights'+ postfix, shape=(dim_input,dim_output), dtype=tf.float64,\n",
    "                                      initializer=tf.glorot_uniform_initializer())\n",
    "            bias = tf.get_variable('bias'+ postfix, shape=(1,dim_output), dtype=tf.float64,\n",
    "                                   initializer=tf.zeros_initializer())\n",
    "        # Define operations here\n",
    "        output1 = tf.cast(tf.matmul(prev_activations,weights) + bias,tf.float64)\n",
    "        if do_activation:\n",
    "            output2 = tf.cast(tf.nn.relu(output1),tf.float64)\n",
    "        else:\n",
    "            output2 = output1\n",
    "        return output2"
   ]
  },
  {
   "cell_type": "markdown",
   "metadata": {},
   "source": [
    "### 3.3: Make dense layers\n",
    "Use the helper function to make four dense layers.\n",
    "Each should have 64 units, the correct input dimensions, and a distinct (and meaningful) postfix."
   ]
  },
  {
   "cell_type": "code",
   "execution_count": 9,
   "metadata": {},
   "outputs": [
    {
     "name": "stdout",
     "output_type": "stream",
     "text": [
      "(?, 2)\n",
      "WARNING:tensorflow:From /Users/frank/anaconda3/envs/pytorch/lib/python3.7/site-packages/tensorflow/python/ops/init_ops.py:1251: calling VarianceScaling.__init__ (from tensorflow.python.ops.init_ops) with dtype is deprecated and will be removed in a future version.\n",
      "Instructions for updating:\n",
      "Call initializer instance with the dtype argument instead of passing it to the constructor\n",
      "(?, 64)\n",
      "(?, 64)\n",
      "(?, 64)\n"
     ]
    }
   ],
   "source": [
    "# Your code here\n",
    "hidden_layer_1 = make_dense_layer(features,2,64,do_activation=True,postfix='h1')\n",
    "hidden_layer_2 = make_dense_layer(hidden_layer_1,64,64,do_activation=True,postfix='h2')\n",
    "hidden_layer_3 = make_dense_layer(hidden_layer_2,64,64,do_activation=True,postfix='h3')\n",
    "hidden_layer_4 = make_dense_layer(hidden_layer_3,64,64,do_activation=True,postfix='h4')"
   ]
  },
  {
   "cell_type": "markdown",
   "metadata": {},
   "source": [
    "### 3.4: Compute logit\n",
    "Use the helper function to make a final dense layer with `dim_output=1` to compute the final logit."
   ]
  },
  {
   "cell_type": "code",
   "execution_count": 10,
   "metadata": {},
   "outputs": [
    {
     "name": "stdout",
     "output_type": "stream",
     "text": [
      "(?, 64)\n"
     ]
    },
    {
     "data": {
      "text/plain": [
       "TensorShape([Dimension(None), Dimension(1)])"
      ]
     },
     "execution_count": 10,
     "metadata": {},
     "output_type": "execute_result"
    }
   ],
   "source": [
    "# Your code here\n",
    "logits = make_dense_layer(hidden_layer_4,64,1,do_activation=False,postfix='logits') #logits\n",
    "logits.shape"
   ]
  },
  {
   "cell_type": "markdown",
   "metadata": {},
   "source": [
    "### 3.5: Compute class probability for output\n",
    "Use `tf.sigmoid` to compute the probability that the input coordinate is a boundary point.\n",
    "We will not use this for the loss, just for the output."
   ]
  },
  {
   "cell_type": "code",
   "execution_count": 11,
   "metadata": {},
   "outputs": [
    {
     "data": {
      "text/plain": [
       "TensorShape([Dimension(None), Dimension(1)])"
      ]
     },
     "execution_count": 11,
     "metadata": {},
     "output_type": "execute_result"
    }
   ],
   "source": [
    "# Your code here\n",
    "output = tf.sigmoid(logits)\n",
    "output.shape"
   ]
  },
  {
   "cell_type": "markdown",
   "metadata": {},
   "source": [
    "### 3.6: Compute weighted cross-entropy loss\n",
    "There are about 33 times as many non-boundary coordinates as there are boundary coordinates.\n",
    "To prevent the network from just learning to predict that every coordinate is not a boundary, we should weight the loss function to consider boundary pixels more heavily.\n",
    "\n",
    "To do this, use `tf.nn.weighted_cross_entropy_with_logits()` on the logits computed before, plus the input label, and a positive weight of 20.\n",
    "Then, produce the mean loss for the batch with `tf.reduce_mean`, and add a summary scalar to plot loss in TensorBoard."
   ]
  },
  {
   "cell_type": "code",
   "execution_count": 12,
   "metadata": {},
   "outputs": [
    {
     "data": {
      "text/plain": [
       "<tf.Tensor 'loss:0' shape=() dtype=string>"
      ]
     },
     "execution_count": 12,
     "metadata": {},
     "output_type": "execute_result"
    }
   ],
   "source": [
    "# Your code here\n",
    "weighted_cross_entropy = tf.nn.weighted_cross_entropy_with_logits(target,tf.squeeze(logits,axis=1),20)\n",
    "\n",
    "loss = tf.reduce_mean(weighted_cross_entropy)\n",
    "    \n",
    "tf.summary.scalar('loss', loss)"
   ]
  },
  {
   "cell_type": "code",
   "execution_count": 13,
   "metadata": {},
   "outputs": [
    {
     "name": "stdout",
     "output_type": "stream",
     "text": [
      "(?,)\n"
     ]
    }
   ],
   "source": [
    "print(target.shape)"
   ]
  },
  {
   "cell_type": "markdown",
   "metadata": {},
   "source": [
    "### 3.7: Optimizer and gradients\n",
    "Make an optimizer (I used `tf.train.MomentumOptimizer` with `lr=1e-3` and `momentum=0.9`).\n",
    "Then, explicitly compute the gradients in a variable called `gradients` (so we can plot them below) and make an operation that applies those gradients to the graph.\n",
    "\n",
    "Note: don't use `optimizer.minimize`, which will result in computing the gradients twice since we already have them from `compute_gradients`."
   ]
  },
  {
   "cell_type": "code",
   "execution_count": 14,
   "metadata": {},
   "outputs": [],
   "source": [
    "# Your code here\n",
    "optimizer = tf.train.MomentumOptimizer(1e-3,0.9)\n",
    "gradients = optimizer.compute_gradients(loss)\n",
    "apply_grad = optimizer.apply_gradients(gradients)"
   ]
  },
  {
   "cell_type": "markdown",
   "metadata": {},
   "source": [
    "### 3.8: Plot variables and gradients\n",
    "You don't need to do this for every model, but it's illustrative to do at least once.\n",
    "I've written the code for this below, with a pattern borrowed from http://matpalm.com/blog/viz_gradient_norms/."
   ]
  },
  {
   "cell_type": "code",
   "execution_count": 15,
   "metadata": {},
   "outputs": [
    {
     "name": "stdout",
     "output_type": "stream",
     "text": [
      "INFO:tensorflow:Summary name gradients/denseh1/weightsh1:0 is illegal; using gradients/denseh1/weightsh1_0 instead.\n",
      "INFO:tensorflow:Summary name variables/denseh1/weightsh1:0 is illegal; using variables/denseh1/weightsh1_0 instead.\n",
      "INFO:tensorflow:Summary name gradients/denseh1/biash1:0 is illegal; using gradients/denseh1/biash1_0 instead.\n",
      "INFO:tensorflow:Summary name variables/denseh1/biash1:0 is illegal; using variables/denseh1/biash1_0 instead.\n",
      "INFO:tensorflow:Summary name gradients/denseh2/weightsh2:0 is illegal; using gradients/denseh2/weightsh2_0 instead.\n",
      "INFO:tensorflow:Summary name variables/denseh2/weightsh2:0 is illegal; using variables/denseh2/weightsh2_0 instead.\n",
      "INFO:tensorflow:Summary name gradients/denseh2/biash2:0 is illegal; using gradients/denseh2/biash2_0 instead.\n",
      "INFO:tensorflow:Summary name variables/denseh2/biash2:0 is illegal; using variables/denseh2/biash2_0 instead.\n",
      "INFO:tensorflow:Summary name gradients/denseh3/weightsh3:0 is illegal; using gradients/denseh3/weightsh3_0 instead.\n",
      "INFO:tensorflow:Summary name variables/denseh3/weightsh3:0 is illegal; using variables/denseh3/weightsh3_0 instead.\n",
      "INFO:tensorflow:Summary name gradients/denseh3/biash3:0 is illegal; using gradients/denseh3/biash3_0 instead.\n",
      "INFO:tensorflow:Summary name variables/denseh3/biash3:0 is illegal; using variables/denseh3/biash3_0 instead.\n",
      "INFO:tensorflow:Summary name gradients/denseh4/weightsh4:0 is illegal; using gradients/denseh4/weightsh4_0 instead.\n",
      "INFO:tensorflow:Summary name variables/denseh4/weightsh4:0 is illegal; using variables/denseh4/weightsh4_0 instead.\n",
      "INFO:tensorflow:Summary name gradients/denseh4/biash4:0 is illegal; using gradients/denseh4/biash4_0 instead.\n",
      "INFO:tensorflow:Summary name variables/denseh4/biash4:0 is illegal; using variables/denseh4/biash4_0 instead.\n",
      "INFO:tensorflow:Summary name gradients/denselogits/weightslogits:0 is illegal; using gradients/denselogits/weightslogits_0 instead.\n",
      "INFO:tensorflow:Summary name variables/denselogits/weightslogits:0 is illegal; using variables/denselogits/weightslogits_0 instead.\n",
      "INFO:tensorflow:Summary name gradients/denselogits/biaslogits:0 is illegal; using gradients/denselogits/biaslogits_0 instead.\n",
      "INFO:tensorflow:Summary name variables/denselogits/biaslogits:0 is illegal; using variables/denselogits/biaslogits_0 instead.\n"
     ]
    }
   ],
   "source": [
    "with tf.name_scope('visualization'):\n",
    "    for gradient, variable in gradients:\n",
    "        if variable.name and gradient is not None:\n",
    "            tf.summary.histogram('gradients/' + variable.name, tf.norm(gradient))\n",
    "            tf.summary.histogram('variables/' + variable.name, tf.norm(variable))"
   ]
  },
  {
   "cell_type": "markdown",
   "metadata": {},
   "source": [
    "# Section 4: train the model\n",
    "Same as last time, except there's no test set.\n",
    "You don't need to distinguish between epochs and steps here, but do run the summary ops and log the summaries.\n",
    "\n",
    "I used 50 epochs, and got a final cross-entropy loss of about 0.3.\n",
    "You might not need to use this many epochs to get reasonable results, but more will get crisper results.\n",
    "\n",
    "This might take a while on CPUs, so if it's taking too long, think about:\n",
    " - Using Google Colaboratory\n",
    " - Increasing your batch size\n",
    " - Reducing the frequency with which you run summary ops, save metadata, etc\n",
    " \n",
    "Watching plots, histograms, etc in TensorBoard as the model trains can be fun."
   ]
  },
  {
   "cell_type": "code",
   "execution_count": 16,
   "metadata": {},
   "outputs": [
    {
     "name": "stdout",
     "output_type": "stream",
     "text": [
      "Epoch: 0\n",
      "1.0299883485535652\n",
      "Epoch: 1\n",
      "0.9999508079461127\n",
      "Epoch: 2\n",
      "0.9618011164157259\n",
      "Epoch: 3\n",
      "0.9333982132846267\n",
      "Epoch: 4\n",
      "0.9177765208662081\n",
      "Epoch: 5\n",
      "0.9012851362194052\n",
      "Epoch: 6\n",
      "0.8911748143519937\n",
      "Epoch: 7\n",
      "0.8739507590532157\n",
      "Epoch: 8\n",
      "0.8624462837373356\n",
      "Epoch: 9\n",
      "0.8406591279637547\n",
      "Epoch: 10\n",
      "0.8192826607627536\n",
      "Epoch: 11\n",
      "0.7978634695627133\n",
      "Epoch: 12\n",
      "0.7764150110069784\n",
      "Epoch: 13\n",
      "0.7428164347584465\n",
      "Epoch: 14\n",
      "0.7222498719205208\n",
      "Epoch: 15\n",
      "0.7010264854800914\n",
      "Epoch: 16\n",
      "0.6922767226073203\n",
      "Epoch: 17\n",
      "0.6632532235386317\n",
      "Epoch: 18\n",
      "0.6299421509061636\n",
      "Epoch: 19\n",
      "0.6208222871659007\n",
      "Epoch: 20\n",
      "0.6196985818180076\n",
      "Epoch: 21\n",
      "0.5870550958731293\n",
      "Epoch: 22\n",
      "0.5790708249428799\n",
      "Epoch: 23\n",
      "0.5998487745773011\n",
      "Epoch: 24\n",
      "0.5387463888453273\n",
      "Epoch: 25\n",
      "0.5376317164047865\n",
      "Epoch: 26\n",
      "0.5515505263454684\n",
      "Epoch: 27\n",
      "0.5313859832503124\n",
      "Epoch: 28\n",
      "0.5197564164159331\n",
      "Epoch: 29\n",
      "0.5285689944677101\n",
      "Epoch: 30\n",
      "0.5079881582812349\n",
      "Epoch: 31\n",
      "0.5095708359388451\n",
      "Epoch: 32\n",
      "0.5101473487050336\n",
      "Epoch: 33\n",
      "0.49179016637095596\n",
      "Epoch: 34\n",
      "0.5025701304867726\n",
      "Epoch: 35\n",
      "0.4822688820394755\n",
      "Epoch: 36\n",
      "0.5039098562900244\n",
      "Epoch: 37\n",
      "0.4662391592828674\n",
      "Epoch: 38\n",
      "0.4736274953004112\n",
      "Epoch: 39\n",
      "0.4452155477090037\n",
      "Epoch: 40\n",
      "0.4605918072359825\n",
      "Epoch: 41\n",
      "0.4732502160276919\n",
      "Epoch: 42\n",
      "0.4718577281523033\n",
      "Epoch: 43\n",
      "0.44968750797210844\n",
      "Epoch: 44\n",
      "0.4611927986973842\n",
      "Epoch: 45\n",
      "0.43690686347193824\n",
      "Epoch: 46\n",
      "0.4481227397441049\n",
      "Epoch: 47\n",
      "0.43589448892387256\n",
      "Epoch: 48\n",
      "0.45068462321449065\n",
      "Epoch: 49\n",
      "0.41860993649907496\n",
      "Epoch: 50\n",
      "0.4411582464518089\n",
      "Epoch: 51\n",
      "0.4175344047722442\n",
      "Epoch: 52\n",
      "0.40686771592078635\n",
      "Epoch: 53\n",
      "0.41479144419397285\n",
      "Epoch: 54\n",
      "0.4138215565552102\n",
      "Epoch: 55\n",
      "0.4313239827458767\n",
      "Epoch: 56\n",
      "0.3932122426888283\n",
      "Epoch: 57\n",
      "0.41313075070181865\n",
      "Epoch: 58\n",
      "0.3871952931040171\n",
      "Epoch: 59\n",
      "0.42372566997137046\n",
      "Epoch: 60\n",
      "0.3945549748048423\n",
      "Epoch: 61\n",
      "0.38048780730894355\n",
      "Epoch: 62\n",
      "0.3787684232734718\n",
      "Epoch: 63\n",
      "0.38513322218215856\n",
      "Epoch: 64\n",
      "0.365434510350944\n",
      "Epoch: 65\n",
      "0.3675585751912068\n",
      "Epoch: 66\n",
      "0.36433564235468696\n",
      "Epoch: 67\n",
      "0.3644887310217972\n",
      "Epoch: 68\n",
      "0.3722264410949573\n",
      "Epoch: 69\n",
      "0.36717972290118533\n",
      "Epoch: 70\n",
      "0.3479321855668921\n",
      "Epoch: 71\n",
      "0.40758938362719244\n",
      "Epoch: 72\n",
      "0.3527680009247359\n",
      "Epoch: 73\n",
      "0.3420940851100521\n",
      "Epoch: 74\n",
      "0.37900280290247584\n",
      "Epoch: 75\n",
      "0.32349228613156367\n",
      "Epoch: 76\n",
      "0.3494367674876077\n",
      "Epoch: 77\n",
      "0.3718447613982217\n",
      "Epoch: 78\n",
      "0.3244062781513638\n",
      "Epoch: 79\n",
      "0.3201440616020915\n",
      "Epoch: 80\n",
      "0.34106777766044316\n",
      "Epoch: 81\n",
      "0.31824330393616457\n",
      "Epoch: 82\n",
      "0.3273016383984025\n",
      "Epoch: 83\n",
      "0.3210571759818058\n",
      "Epoch: 84\n",
      "0.31822610168970544\n",
      "Epoch: 85\n",
      "0.34511626716294824\n",
      "Epoch: 86\n",
      "0.32073270114221736\n",
      "Epoch: 87\n",
      "0.31368941830019814\n",
      "Epoch: 88\n",
      "0.3238779031400023\n",
      "Epoch: 89\n",
      "0.315592792410849\n",
      "Epoch: 90\n",
      "0.3041260241283794\n",
      "Epoch: 91\n",
      "0.36101876635562075\n",
      "Epoch: 92\n",
      "0.3008806714297385\n",
      "Epoch: 93\n",
      "0.28642333111772666\n",
      "Epoch: 94\n",
      "0.30703919235247057\n",
      "Epoch: 95\n",
      "0.2677708673531749\n",
      "Epoch: 96\n",
      "0.3300074872507319\n",
      "Epoch: 97\n",
      "0.32843427127599323\n",
      "Epoch: 98\n",
      "0.31870908388318064\n",
      "Epoch: 99\n",
      "0.2977282879705578\n"
     ]
    }
   ],
   "source": [
    "# Your code here\n",
    "# Training code\n",
    "saver = tf.train.Saver() # Save varibles\n",
    "merged_summaries = tf.summary.merge_all() # Single merged summary op\n",
    "train_batch = 0\n",
    "with tf.Session() as sess:\n",
    "    # Make one writer for training logs and another for test logs \n",
    "    train_writer = tf.summary.FileWriter('./logs_lab/train', graph=sess.graph)\n",
    "    # Initialize all variables\n",
    "    sess.run(tf.global_variables_initializer())\n",
    "    \n",
    "    # Training loop\n",
    "    for epoch in range(n_epochs):\n",
    "        # Load training data\n",
    "        sess.run(train_init_op)\n",
    "        l=[]\n",
    "        # Iterate over the dataset once\n",
    "        while True:\n",
    "            try:\n",
    "                if train_batch > 0: # Typical batch\n",
    "                    # Run summary ops and optimization\n",
    "                    summary, l1,_ = sess.run([merged_summaries,loss,apply_grad])\n",
    "                    l.append(l1)\n",
    "                    train_writer.add_summary(summary, train_batch)\n",
    "                    train_batch += 1\n",
    "                else:\n",
    "                    # On the first batch, run a full trace\n",
    "                    run_options = tf.RunOptions(trace_level=tf.RunOptions.FULL_TRACE)\n",
    "                    run_metadata = tf.RunMetadata()\n",
    "                    \n",
    "                    summary,l1 = sess.run([merged_summaries,apply_grad],\n",
    "                                          options=run_options,\n",
    "                                          run_metadata=run_metadata)\n",
    "                    \n",
    "                    train_writer.add_summary(summary, train_batch)    \n",
    "                    train_writer.add_run_metadata(run_metadata, \n",
    "                                                  'first training batch')\n",
    "                    train_batch += 1\n",
    "            except tf.errors.OutOfRangeError: # No more data\n",
    "                break\n",
    "    \n",
    "        \n",
    "        print('Epoch:', epoch)\n",
    "        print(sum(l)/len(l))\n",
    "        \n",
    "        \n",
    "    # Save model\n",
    "    saver.save(sess, './checkpoints_lab/model.ckpt')"
   ]
  },
  {
   "cell_type": "markdown",
   "metadata": {},
   "source": [
    "# Section 5: Plot the model\n",
    "Let's see what the network learned.\n",
    "Generate 100 x values and 100 y values, each in the range (-1, 1).\n",
    "Then compute the value of `probability` using every coordinate in that grid (every pairwise combination of x and y values), and plot a \"map\" of those probabilities using `plt.scatter()` (check out the `c` argument).\n",
    "\n",
    "You can use `feed_dict` to pass in data, since efficiency matters less here than in training.\n",
    "I used it to overwrite the input coordinates, since I didn't define a `Dataset` here.\n",
    "But, there are multiple ways to do this (e.g. defining a new `Dataset` of coordinates and fake labels).\n",
    "\n",
    "Remember to load the trained weights before running inference."
   ]
  },
  {
   "cell_type": "code",
   "execution_count": 37,
   "metadata": {},
   "outputs": [
    {
     "name": "stdout",
     "output_type": "stream",
     "text": [
      "INFO:tensorflow:Restoring parameters from ./checkpoints_lab/model.ckpt\n"
     ]
    },
    {
     "data": {
      "image/png": "[encoded data removed]",
      "text/plain": [
       "<Figure size 432x288 with 1 Axes>"
      ]
     },
     "metadata": {
      "needs_background": "light"
     },
     "output_type": "display_data"
    }
   ],
   "source": [
    "# Your code here\n",
    "with tf.Session() as sess:\n",
    "    saver.restore(sess, './checkpoints_lab/model.ckpt')\n",
    "    \n",
    "    x_set = []\n",
    "    y_set = []\n",
    "    probs = np.zeros([100,100])\n",
    "    for i in range(100):\n",
    "        for j in range(100):\n",
    "            probability = sess.run(output,feed_dict={features:[[0.02*i-1,0.02*j-1]]})\n",
    "            probs[i,j] = probability\n",
    "            if probability > 0.5:\n",
    "                x_set.append(0.02*i-1)\n",
    "                y_set.append(0.02*j-1)\n",
    "    #plt.scatter(x_set,y_set)\n",
    "    plt.imshow(probs)\n",
    "    \n",
    "    #print(sess.run([pred_label,tf.argmax(target,axis=1)])) \n",
    "\n"
   ]
  },
  {
   "cell_type": "code",
   "execution_count": 35,
   "metadata": {},
   "outputs": [
    {
     "data": {
      "text/plain": [
       "<matplotlib.collections.PathCollection at 0x13f87e8d0>"
      ]
     },
     "execution_count": 35,
     "metadata": {},
     "output_type": "execute_result"
    },
    {
     "data": {
      "image/png": "[encoded data removed]",
      "text/plain": [
       "<Figure size 432x288 with 1 Axes>"
      ]
     },
     "metadata": {
      "needs_background": "light"
     },
     "output_type": "display_data"
    }
   ],
   "source": [
    "plt.scatter(pos_data[:,0],pos_data[:,1])\n",
    "# note that the figure below is just a 90-degree rotation of the figure above."
   ]
  },
  {
   "cell_type": "markdown",
   "metadata": {},
   "source": [
    "# Section 6: TensorBoard plots\n",
    "This time, we have some more interesting TensorBoard plots than last time.\n",
    "Run TensorBoard, and look at:\n",
    " - The model graph in Graphs\n",
    " - The loss over time in Scalars\n",
    " - The weights, biases, and gradients over time in Distributions and Histograms\n",
    " \n",
    "The loss should decrease over time, and eventually stabilize (with some noise).\n",
    "\n",
    "The gradients for weights and biases may not go to zero, and your weights and biases may not look like they're converging.\n",
    "This is because of \"bias drift\" where multiple possible settings of weights and biases have the same loss value.\n",
    "To fix this, we could add a term to the loss which penalizes the model slightly based on the magnitude of the bias terms."
   ]
  },
  {
   "cell_type": "markdown",
   "metadata": {},
   "source": [
    "# Section 7: Again, but in Keras\n",
    "Make a Keras Sequential model which is equivalent to the one we've trained in TensorFlow.\n",
    "Train it on the same dataset, and again plot its output in the same way. \n",
    "\n",
    "Hints:\n",
    " - This won't take nearly as long as the previous sections\n",
    " - You don't need to use `keras.utils.to_categorical` since this is binary classification.\n",
    " - The appropriate loss function is 'binary_crossentropy'\n",
    " - To implement the same loss weighting, use `class_weight={0: 1.0, 1:20.0}` in `model.fit()`\n",
    " - You can get the outputs of the model over the entire grid at once with `model.predict()`"
   ]
  },
  {
   "cell_type": "markdown",
   "metadata": {},
   "source": [
    "### 7.1: Build a model\n",
    "Use `keras.models.Sequential` to build the same FCN as before."
   ]
  },
  {
   "cell_type": "code",
   "execution_count": 46,
   "metadata": {},
   "outputs": [],
   "source": [
    "# Your code here\n",
    "import keras\n",
    "from keras.models import Sequential\n",
    "from keras.layers import Dense, Activation\n",
    "\n",
    "# Create an \"empty\" model\n",
    "model = Sequential()\n",
    "\n",
    "model.add( Dense(64, input_shape=(2,)) )\n",
    "model.add(Activation('relu'))\n",
    "\n",
    "model.add(Dense(64, activation='relu'))\n",
    "model.add(Dense(64, activation='relu'))\n",
    "model.add(Dense(64, activation='relu'))\n",
    "\n",
    "model.add(Dense(1, activation='sigmoid'))"
   ]
  },
  {
   "cell_type": "code",
   "execution_count": null,
   "metadata": {},
   "outputs": [],
   "source": []
  },
  {
   "cell_type": "markdown",
   "metadata": {},
   "source": [
    "### 7.2: Define an optimizer and compile the model"
   ]
  },
  {
   "cell_type": "code",
   "execution_count": 47,
   "metadata": {},
   "outputs": [],
   "source": [
    "# Your code here\n",
    "from keras.optimizers import SGD\n",
    "\n",
    "optimizer = SGD(lr=1e-3, momentum=0.9)\n",
    "model.compile(optimizer=optimizer,\n",
    "              loss='binary_crossentropy',\n",
    "              metrics=['binary_accuracy',\n",
    "                       'binary_crossentropy'])"
   ]
  },
  {
   "cell_type": "markdown",
   "metadata": {},
   "source": [
    "### 7.3: Fit the model"
   ]
  },
  {
   "cell_type": "code",
   "execution_count": 50,
   "metadata": {},
   "outputs": [
    {
     "name": "stdout",
     "output_type": "stream",
     "text": [
      "Epoch 1/100\n",
      "28556/28556 [==============================] - 2s 54us/step - loss: 1.0330 - binary_accuracy: 0.9669 - binary_crossentropy: 0.5230\n",
      "Epoch 2/100\n",
      "28556/28556 [==============================] - 1s 38us/step - loss: 1.0080 - binary_accuracy: 0.9698 - binary_crossentropy: 0.4899\n",
      "Epoch 3/100\n",
      "28556/28556 [==============================] - 1s 37us/step - loss: 0.9717 - binary_accuracy: 0.9115 - binary_crossentropy: 0.4720\n",
      "Epoch 4/100\n",
      "28556/28556 [==============================] - 1s 44us/step - loss: 0.9429 - binary_accuracy: 0.8327 - binary_crossentropy: 0.4659\n",
      "Epoch 5/100\n",
      "28556/28556 [==============================] - 1s 45us/step - loss: 0.9260 - binary_accuracy: 0.8252 - binary_crossentropy: 0.4517\n",
      "Epoch 6/100\n",
      "28556/28556 [==============================] - 1s 47us/step - loss: 0.9078 - binary_accuracy: 0.8112 - binary_crossentropy: 0.4470\n",
      "Epoch 7/100\n",
      "28556/28556 [==============================] - 1s 45us/step - loss: 0.8964 - binary_accuracy: 0.8047 - binary_crossentropy: 0.4404\n",
      "Epoch 8/100\n",
      "28556/28556 [==============================] - 1s 42us/step - loss: 0.8826 - binary_accuracy: 0.8073 - binary_crossentropy: 0.4332\n",
      "Epoch 9/100\n",
      "28556/28556 [==============================] - 1s 36us/step - loss: 0.8712 - binary_accuracy: 0.8210 - binary_crossentropy: 0.4283\n",
      "Epoch 10/100\n",
      "28556/28556 [==============================] - 1s 36us/step - loss: 0.8382 - binary_accuracy: 0.8050 - binary_crossentropy: 0.4151\n",
      "Epoch 11/100\n",
      "28556/28556 [==============================] - 1s 35us/step - loss: 0.8216 - binary_accuracy: 0.8220 - binary_crossentropy: 0.4059: 0s - loss: 0.8316 - binary_accuracy: 0.8108 - binary_crossentropy\n",
      "Epoch 12/100\n",
      "28556/28556 [==============================] - 1s 35us/step - loss: 0.7857 - binary_accuracy: 0.8378 - binary_crossentropy: 0.3934\n",
      "Epoch 13/100\n",
      "28556/28556 [==============================] - 1s 35us/step - loss: 0.7520 - binary_accuracy: 0.8418 - binary_crossentropy: 0.3777\n",
      "Epoch 14/100\n",
      "28556/28556 [==============================] - 1s 35us/step - loss: 0.7304 - binary_accuracy: 0.8320 - binary_crossentropy: 0.3739\n",
      "Epoch 15/100\n",
      "28556/28556 [==============================] - 1s 34us/step - loss: 0.6857 - binary_accuracy: 0.8377 - binary_crossentropy: 0.3555\n",
      "Epoch 16/100\n",
      "28556/28556 [==============================] - 1s 35us/step - loss: 0.6540 - binary_accuracy: 0.8373 - binary_crossentropy: 0.3426\n",
      "Epoch 17/100\n",
      "28556/28556 [==============================] - 1s 35us/step - loss: 0.5967 - binary_accuracy: 0.8428 - binary_crossentropy: 0.3166\n",
      "Epoch 18/100\n",
      "28556/28556 [==============================] - 1s 35us/step - loss: 0.6142 - binary_accuracy: 0.8363 - binary_crossentropy: 0.3303\n",
      "Epoch 19/100\n",
      "28556/28556 [==============================] - 1s 35us/step - loss: 0.5537 - binary_accuracy: 0.8460 - binary_crossentropy: 0.3027\n",
      "Epoch 20/100\n",
      "28556/28556 [==============================] - 1s 35us/step - loss: 0.5489 - binary_accuracy: 0.8493 - binary_crossentropy: 0.3011\n",
      "Epoch 21/100\n",
      "28556/28556 [==============================] - 1s 34us/step - loss: 0.5708 - binary_accuracy: 0.8331 - binary_crossentropy: 0.3176\n",
      "Epoch 22/100\n",
      "28556/28556 [==============================] - 1s 34us/step - loss: 0.5275 - binary_accuracy: 0.8469 - binary_crossentropy: 0.2894\n",
      "Epoch 23/100\n",
      "28556/28556 [==============================] - 1s 34us/step - loss: 0.5335 - binary_accuracy: 0.8435 - binary_crossentropy: 0.2978\n",
      "Epoch 24/100\n",
      "28556/28556 [==============================] - 1s 34us/step - loss: 0.5171 - binary_accuracy: 0.8464 - binary_crossentropy: 0.2891\n",
      "Epoch 25/100\n",
      "28556/28556 [==============================] - 1s 34us/step - loss: 0.4911 - binary_accuracy: 0.8552 - binary_crossentropy: 0.2732\n",
      "Epoch 26/100\n",
      "28556/28556 [==============================] - 1s 34us/step - loss: 0.4888 - binary_accuracy: 0.8548 - binary_crossentropy: 0.2762\n",
      "Epoch 27/100\n",
      "28556/28556 [==============================] - 1s 33us/step - loss: 0.4786 - binary_accuracy: 0.8604 - binary_crossentropy: 0.2747\n",
      "Epoch 28/100\n",
      "28556/28556 [==============================] - 1s 34us/step - loss: 0.5030 - binary_accuracy: 0.8533 - binary_crossentropy: 0.2822\n",
      "Epoch 29/100\n",
      "28556/28556 [==============================] - 1s 34us/step - loss: 0.4881 - binary_accuracy: 0.8554 - binary_crossentropy: 0.2805\n",
      "Epoch 30/100\n",
      "28556/28556 [==============================] - 1s 35us/step - loss: 0.4693 - binary_accuracy: 0.8572 - binary_crossentropy: 0.2710\n",
      "Epoch 31/100\n",
      "28556/28556 [==============================] - 1s 35us/step - loss: 0.4617 - binary_accuracy: 0.8611 - binary_crossentropy: 0.2631\n",
      "Epoch 32/100\n",
      "28556/28556 [==============================] - 1s 34us/step - loss: 0.4420 - binary_accuracy: 0.8659 - binary_crossentropy: 0.2525\n",
      "Epoch 33/100\n",
      "28556/28556 [==============================] - 1s 34us/step - loss: 0.4337 - binary_accuracy: 0.8670 - binary_crossentropy: 0.2525\n",
      "Epoch 34/100\n",
      "28556/28556 [==============================] - 1s 34us/step - loss: 0.4618 - binary_accuracy: 0.8577 - binary_crossentropy: 0.2633\n",
      "Epoch 35/100\n",
      "28556/28556 [==============================] - 1s 34us/step - loss: 0.4437 - binary_accuracy: 0.8664 - binary_crossentropy: 0.2601\n",
      "Epoch 36/100\n",
      "28556/28556 [==============================] - 1s 34us/step - loss: 0.4200 - binary_accuracy: 0.8697 - binary_crossentropy: 0.2440\n",
      "Epoch 37/100\n",
      "28556/28556 [==============================] - 1s 35us/step - loss: 0.4117 - binary_accuracy: 0.8727 - binary_crossentropy: 0.2381\n",
      "Epoch 38/100\n",
      "28556/28556 [==============================] - 1s 34us/step - loss: 0.4144 - binary_accuracy: 0.8716 - binary_crossentropy: 0.2431\n",
      "Epoch 39/100\n",
      "28556/28556 [==============================] - 1s 34us/step - loss: 0.4286 - binary_accuracy: 0.8692 - binary_crossentropy: 0.2471\n",
      "Epoch 40/100\n",
      "28556/28556 [==============================] - 1s 34us/step - loss: 0.4004 - binary_accuracy: 0.8774 - binary_crossentropy: 0.2324\n",
      "Epoch 41/100\n",
      "28556/28556 [==============================] - 1s 34us/step - loss: 0.4020 - binary_accuracy: 0.8752 - binary_crossentropy: 0.2388\n",
      "Epoch 42/100\n",
      "28556/28556 [==============================] - 1s 34us/step - loss: 0.4104 - binary_accuracy: 0.8738 - binary_crossentropy: 0.2398\n",
      "Epoch 43/100\n",
      "28556/28556 [==============================] - 1s 34us/step - loss: 0.3773 - binary_accuracy: 0.8848 - binary_crossentropy: 0.2219\n",
      "Epoch 44/100\n",
      "28556/28556 [==============================] - 1s 34us/step - loss: 0.3979 - binary_accuracy: 0.8789 - binary_crossentropy: 0.2360\n",
      "Epoch 45/100\n",
      "28556/28556 [==============================] - 1s 34us/step - loss: 0.3861 - binary_accuracy: 0.8838 - binary_crossentropy: 0.2288\n",
      "Epoch 46/100\n",
      "28556/28556 [==============================] - 1s 34us/step - loss: 0.3920 - binary_accuracy: 0.8800 - binary_crossentropy: 0.2338\n",
      "Epoch 47/100\n",
      "28556/28556 [==============================] - 1s 34us/step - loss: 0.3813 - binary_accuracy: 0.8823 - binary_crossentropy: 0.2266\n",
      "Epoch 48/100\n",
      "28556/28556 [==============================] - 1s 34us/step - loss: 0.3839 - binary_accuracy: 0.8880 - binary_crossentropy: 0.2230\n",
      "Epoch 49/100\n",
      "28556/28556 [==============================] - 1s 34us/step - loss: 0.3778 - binary_accuracy: 0.8890 - binary_crossentropy: 0.2193\n",
      "Epoch 50/100\n",
      "28556/28556 [==============================] - 1s 34us/step - loss: 0.3986 - binary_accuracy: 0.8840 - binary_crossentropy: 0.2374\n",
      "Epoch 51/100\n",
      "28556/28556 [==============================] - 1s 34us/step - loss: 0.3626 - binary_accuracy: 0.8946 - binary_crossentropy: 0.2159\n",
      "Epoch 52/100\n",
      "28556/28556 [==============================] - 1s 37us/step - loss: 0.3830 - binary_accuracy: 0.8894 - binary_crossentropy: 0.2298\n",
      "Epoch 53/100\n",
      "28556/28556 [==============================] - 1s 38us/step - loss: 0.3541 - binary_accuracy: 0.8953 - binary_crossentropy: 0.2105\n",
      "Epoch 54/100\n",
      "28556/28556 [==============================] - 1s 34us/step - loss: 0.3486 - binary_accuracy: 0.8989 - binary_crossentropy: 0.2071\n",
      "Epoch 55/100\n",
      "28556/28556 [==============================] - 1s 36us/step - loss: 0.3627 - binary_accuracy: 0.8930 - binary_crossentropy: 0.2201\n",
      "Epoch 56/100\n",
      "28556/28556 [==============================] - 1s 34us/step - loss: 0.3672 - binary_accuracy: 0.8929 - binary_crossentropy: 0.2153\n",
      "Epoch 57/100\n"
     ]
    },
    {
     "name": "stdout",
     "output_type": "stream",
     "text": [
      "28556/28556 [==============================] - 1s 34us/step - loss: 0.3476 - binary_accuracy: 0.8974 - binary_crossentropy: 0.2077\n",
      "Epoch 58/100\n",
      "28556/28556 [==============================] - 1s 35us/step - loss: 0.3627 - binary_accuracy: 0.8983 - binary_crossentropy: 0.2140\n",
      "Epoch 59/100\n",
      "28556/28556 [==============================] - 1s 34us/step - loss: 0.4259 - binary_accuracy: 0.8847 - binary_crossentropy: 0.2401\n",
      "Epoch 60/100\n",
      "28556/28556 [==============================] - 1s 34us/step - loss: 0.3594 - binary_accuracy: 0.8960 - binary_crossentropy: 0.2126\n",
      "Epoch 61/100\n",
      "28556/28556 [==============================] - 1s 34us/step - loss: 0.3563 - binary_accuracy: 0.8967 - binary_crossentropy: 0.2148\n",
      "Epoch 62/100\n",
      "28556/28556 [==============================] - 1s 35us/step - loss: 0.3281 - binary_accuracy: 0.9045 - binary_crossentropy: 0.1969\n",
      "Epoch 63/100\n",
      "28556/28556 [==============================] - 1s 36us/step - loss: 0.3453 - binary_accuracy: 0.9015 - binary_crossentropy: 0.2076\n",
      "Epoch 64/100\n",
      "28556/28556 [==============================] - 1s 34us/step - loss: 0.3486 - binary_accuracy: 0.8952 - binary_crossentropy: 0.2110\n",
      "Epoch 65/100\n",
      "28556/28556 [==============================] - 1s 34us/step - loss: 0.3587 - binary_accuracy: 0.8961 - binary_crossentropy: 0.2150\n",
      "Epoch 66/100\n",
      "28556/28556 [==============================] - 1s 34us/step - loss: 0.3312 - binary_accuracy: 0.9020 - binary_crossentropy: 0.1984\n",
      "Epoch 67/100\n",
      "28556/28556 [==============================] - 1s 34us/step - loss: 0.3231 - binary_accuracy: 0.9053 - binary_crossentropy: 0.1986\n",
      "Epoch 68/100\n",
      "28556/28556 [==============================] - 1s 34us/step - loss: 0.3374 - binary_accuracy: 0.9003 - binary_crossentropy: 0.2031\n",
      "Epoch 69/100\n",
      "28556/28556 [==============================] - 1s 34us/step - loss: 0.3291 - binary_accuracy: 0.9004 - binary_crossentropy: 0.2015\n",
      "Epoch 70/100\n",
      "28556/28556 [==============================] - 1s 34us/step - loss: 0.3570 - binary_accuracy: 0.8949 - binary_crossentropy: 0.2142\n",
      "Epoch 71/100\n",
      "28556/28556 [==============================] - 1s 34us/step - loss: 0.3155 - binary_accuracy: 0.9066 - binary_crossentropy: 0.1931\n",
      "Epoch 72/100\n",
      "28556/28556 [==============================] - 1s 34us/step - loss: 0.3269 - binary_accuracy: 0.9035 - binary_crossentropy: 0.1982\n",
      "Epoch 73/100\n",
      "28556/28556 [==============================] - 1s 34us/step - loss: 0.3592 - binary_accuracy: 0.8947 - binary_crossentropy: 0.2180\n",
      "Epoch 74/100\n",
      "28556/28556 [==============================] - 1s 34us/step - loss: 0.3141 - binary_accuracy: 0.9084 - binary_crossentropy: 0.1895\n",
      "Epoch 75/100\n",
      "28556/28556 [==============================] - 1s 34us/step - loss: 0.3459 - binary_accuracy: 0.8979 - binary_crossentropy: 0.2108\n",
      "Epoch 76/100\n",
      "28556/28556 [==============================] - 1s 34us/step - loss: 0.3511 - binary_accuracy: 0.8952 - binary_crossentropy: 0.2158\n",
      "Epoch 77/100\n",
      "28556/28556 [==============================] - 1s 34us/step - loss: 0.3065 - binary_accuracy: 0.9092 - binary_crossentropy: 0.1861\n",
      "Epoch 78/100\n",
      "28556/28556 [==============================] - 1s 34us/step - loss: 0.2934 - binary_accuracy: 0.9140 - binary_crossentropy: 0.1817\n",
      "Epoch 79/100\n",
      "28556/28556 [==============================] - 1s 34us/step - loss: 0.3264 - binary_accuracy: 0.9068 - binary_crossentropy: 0.2013\n",
      "Epoch 80/100\n",
      "28556/28556 [==============================] - 1s 34us/step - loss: 0.3411 - binary_accuracy: 0.8984 - binary_crossentropy: 0.2081\n",
      "Epoch 81/100\n",
      "28556/28556 [==============================] - 1s 34us/step - loss: 0.3300 - binary_accuracy: 0.9045 - binary_crossentropy: 0.1988\n",
      "Epoch 82/100\n",
      "28556/28556 [==============================] - 1s 34us/step - loss: 0.3132 - binary_accuracy: 0.9060 - binary_crossentropy: 0.1947\n",
      "Epoch 83/100\n",
      "28556/28556 [==============================] - 1s 35us/step - loss: 0.2962 - binary_accuracy: 0.9130 - binary_crossentropy: 0.1808\n",
      "Epoch 84/100\n",
      "28556/28556 [==============================] - 1s 34us/step - loss: 0.3168 - binary_accuracy: 0.9049 - binary_crossentropy: 0.1932\n",
      "Epoch 85/100\n",
      "28556/28556 [==============================] - 1s 34us/step - loss: 0.3219 - binary_accuracy: 0.9085 - binary_crossentropy: 0.1958\n",
      "Epoch 86/100\n",
      "28556/28556 [==============================] - 1s 34us/step - loss: 0.2888 - binary_accuracy: 0.9159 - binary_crossentropy: 0.1821\n",
      "Epoch 87/100\n",
      "28556/28556 [==============================] - 1s 33us/step - loss: 0.3203 - binary_accuracy: 0.9076 - binary_crossentropy: 0.1927\n",
      "Epoch 88/100\n",
      "28556/28556 [==============================] - 1s 34us/step - loss: 0.3086 - binary_accuracy: 0.9120 - binary_crossentropy: 0.1888\n",
      "Epoch 89/100\n",
      "28556/28556 [==============================] - 1s 35us/step - loss: 0.3044 - binary_accuracy: 0.9161 - binary_crossentropy: 0.1827\n",
      "Epoch 90/100\n",
      "28556/28556 [==============================] - 1s 34us/step - loss: 0.2955 - binary_accuracy: 0.9136 - binary_crossentropy: 0.1834\n",
      "Epoch 91/100\n",
      "28556/28556 [==============================] - 1s 34us/step - loss: 0.3078 - binary_accuracy: 0.9101 - binary_crossentropy: 0.1888\n",
      "Epoch 92/100\n",
      "28556/28556 [==============================] - 1s 34us/step - loss: 0.2972 - binary_accuracy: 0.9115 - binary_crossentropy: 0.1817\n",
      "Epoch 93/100\n",
      "28556/28556 [==============================] - 1s 34us/step - loss: 0.2613 - binary_accuracy: 0.9218 - binary_crossentropy: 0.1639\n",
      "Epoch 94/100\n",
      "28556/28556 [==============================] - 1s 34us/step - loss: 0.2652 - binary_accuracy: 0.9235 - binary_crossentropy: 0.1649\n",
      "Epoch 95/100\n",
      "28556/28556 [==============================] - 1s 34us/step - loss: 0.2702 - binary_accuracy: 0.9229 - binary_crossentropy: 0.1688\n",
      "Epoch 96/100\n",
      "28556/28556 [==============================] - 1s 34us/step - loss: 0.2896 - binary_accuracy: 0.9168 - binary_crossentropy: 0.1784\n",
      "Epoch 97/100\n",
      "28556/28556 [==============================] - 1s 34us/step - loss: 0.2810 - binary_accuracy: 0.9177 - binary_crossentropy: 0.1739\n",
      "Epoch 98/100\n",
      "28556/28556 [==============================] - 1s 34us/step - loss: 0.2943 - binary_accuracy: 0.9141 - binary_crossentropy: 0.1839\n",
      "Epoch 99/100\n",
      "28556/28556 [==============================] - 1s 35us/step - loss: 0.2853 - binary_accuracy: 0.9204 - binary_crossentropy: 0.1761\n",
      "Epoch 100/100\n",
      "28556/28556 [==============================] - 1s 34us/step - loss: 0.3359 - binary_accuracy: 0.8991 - binary_crossentropy: 0.2008\n"
     ]
    },
    {
     "data": {
      "text/plain": [
       "<keras.callbacks.callbacks.History at 0x14290fc88>"
      ]
     },
     "execution_count": 50,
     "metadata": {},
     "output_type": "execute_result"
    }
   ],
   "source": [
    "# Your code here\n",
    "\n",
    "model.fit(x_all, y_all,\n",
    "          epochs=100, batch_size=32,\n",
    "          class_weight={0: 1.0, 1:20.0})"
   ]
  },
  {
   "cell_type": "markdown",
   "metadata": {},
   "source": [
    "### 7.4: Plot the model"
   ]
  },
  {
   "cell_type": "code",
   "execution_count": 72,
   "metadata": {},
   "outputs": [],
   "source": [
    "# Your code here\n",
    "pred = model.predict(np.array([[0.66510214, 0.14954305]]))"
   ]
  },
  {
   "cell_type": "code",
   "execution_count": 76,
   "metadata": {},
   "outputs": [
    {
     "data": {
      "text/plain": [
       "()"
      ]
     },
     "execution_count": 76,
     "metadata": {},
     "output_type": "execute_result"
    }
   ],
   "source": [
    "np.squeeze(pred).shape"
   ]
  },
  {
   "cell_type": "code",
   "execution_count": 77,
   "metadata": {},
   "outputs": [
    {
     "data": {
      "text/plain": [
       "<matplotlib.image.AxesImage at 0x141d43e80>"
      ]
     },
     "execution_count": 77,
     "metadata": {},
     "output_type": "execute_result"
    },
    {
     "data": {
      "image/png": "[encoded data removed]",
      "text/plain": [
       "<Figure size 432x288 with 1 Axes>"
      ]
     },
     "metadata": {
      "needs_background": "light"
     },
     "output_type": "display_data"
    }
   ],
   "source": [
    "x_set_keras = []\n",
    "y_set_keras = []\n",
    "probs_keras = np.zeros([100,100])\n",
    "for i in range(100):\n",
    "    for j in range(100):\n",
    "        pred = model.predict(np.array([[0.02*i-1,0.02*j-1]]))\n",
    "        probs[i,j] = np.squeeze(pred)\n",
    "        if probability > 0.5:\n",
    "            x_set_keras.append(0.02*i-1)\n",
    "            y_set_keras.append(0.02*j-1)\n",
    "#plt.scatter(x_set,y_set)\n",
    "plt.imshow(probs)"
   ]
  },
  {
   "cell_type": "code",
   "execution_count": null,
   "metadata": {},
   "outputs": [],
   "source": []
  }
 ],
 "metadata": {
  "kernelspec": {
   "display_name": "Pytorch for Deeplearning",
   "language": "python",
   "name": "pytorch"
  },
  "language_info": {
   "codemirror_mode": {
    "name": "ipython",
    "version": 3
   },
   "file_extension": ".py",
   "mimetype": "text/x-python",
   "name": "python",
   "nbconvert_exporter": "python",
   "pygments_lexer": "ipython3",
   "version": "3.7.3"
  }
 },
 "nbformat": 4,
 "nbformat_minor": 2
}
